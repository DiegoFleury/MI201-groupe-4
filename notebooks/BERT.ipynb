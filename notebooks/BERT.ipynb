{
  "cells": [
    {
      "cell_type": "markdown",
      "source": [
        "# BERT Architecture Explained\n",
        "## MI201\n",
        "\n",
        "##**Group 4** :\n",
        "- Diego FLEURY CORRÊA DE MORAES\n",
        "- Hazael SOLEDADE DE ARAUJO JUMONJI\n",
        "- Lucas DE OLIVEIRA MARTIM\n",
        "\n",
        "### Project 3 : **Sentiment Analysis Using LLMs**"
      ],
      "metadata": {
        "id": "eir4v2rZCnu3"
      },
      "id": "eir4v2rZCnu3"
    },
    {
      "cell_type": "markdown",
      "source": [
        "### Introduction\n",
        "\n",
        "In this notebook, we aim to answer questions 5 and 6 in more detail, providing the necessary context without overwhelming the main experiments notebook with too many cells. Transformer-based architectures have revolutionized NLP, so it's important to explain them properly. To keep the focus on theory while minimizing code, we've opted for this separate, less code-intensive notebook."
      ],
      "metadata": {
        "id": "HXtJLztFxsGF"
      },
      "id": "HXtJLztFxsGF"
    },
    {
      "cell_type": "markdown",
      "source": [
        "**NOTE**: The images from this notebook are taken from a series of Jay Alammar blog posts. They're often used in media for explanation purposes, and are licensed under [Creative Commons](http://creativecommons.org/licenses/by-nc-sa/4.0/). Here are the references:\n",
        "\n",
        "\n",
        "- *Alammar, J* (2018). **The Illustrated Transformer** [Blog post].\n",
        "  * Retrieved from https://jalammar.github.io/illustrated-transformer/\n",
        "\n",
        "-*Alammar, J* (2018). **Visualizing A Neural Machine Translation Model (Mechanics of Seq2seq Models With Attention)** [Blog post].\n",
        "  * Retrieved from https://jalammar.github.io/visualizing-neural-machine-translation-mechanics-of-seq2seq-models-with-attention/\n",
        "\n",
        "- *Alammar, J* (2018). **The Illustrated BERT, ELMo, and co. (How NLP Cracked Transfer Learning)** [Blog post].\n",
        "  * Retrieved from https://jalammar.github.io/illustrated-bert/\n",
        "\n",
        "-*Alammar, J* (2019). **A Visual Guide to Using BERT for the First Time** [Blog post].\n",
        "  * Retrieved from https://jalammar.github.io/a-visual-guide-to-using-bert-for-the-first-time/\n"
      ],
      "metadata": {
        "id": "Be7ddQYc_FZh"
      },
      "id": "Be7ddQYc_FZh"
    },
    {
      "cell_type": "code",
      "source": [
        "from IPython.display import HTML # Needed for videos"
      ],
      "metadata": {
        "id": "D_j3HK2qCo_9"
      },
      "id": "D_j3HK2qCo_9",
      "execution_count": 16,
      "outputs": []
    },
    {
      "cell_type": "markdown",
      "source": [
        "#Attention is All You Need"
      ],
      "metadata": {
        "id": "_jAVKfZcxyMk"
      },
      "id": "_jAVKfZcxyMk"
    },
    {
      "cell_type": "markdown",
      "source": [
        "## Natural Language Processing"
      ],
      "metadata": {
        "id": "Nzy39Kg-yJ67"
      },
      "id": "Nzy39Kg-yJ67"
    },
    {
      "cell_type": "markdown",
      "source": [
        "### What are sequence to sequence models"
      ],
      "metadata": {
        "id": "TLlF04l2zG1a"
      },
      "id": "TLlF04l2zG1a"
    },
    {
      "cell_type": "code",
      "source": [
        "seq2seqURL= \"https://jalammar.github.io/images/seq2seq_1.mp4\"\n",
        "HTML(f\"<video src='{seq2seqURL}' autoplay loop width='800' height='600' controls></video>\")"
      ],
      "metadata": {
        "colab": {
          "base_uri": "https://localhost:8080/",
          "height": 621
        },
        "id": "DUB6Yoo9CfoE",
        "outputId": "5e69d7ee-8d00-4e46-f9fa-ea233a0e3536"
      },
      "id": "DUB6Yoo9CfoE",
      "execution_count": 22,
      "outputs": [
        {
          "output_type": "execute_result",
          "data": {
            "text/plain": [
              "<IPython.core.display.HTML object>"
            ],
            "text/html": [
              "<video src='https://jalammar.github.io/images/seq2seq_1.mp4' autoplay loop width='800' height='600' controls></video>"
            ]
          },
          "metadata": {},
          "execution_count": 22
        }
      ]
    },
    {
      "cell_type": "code",
      "source": [
        "seq2seq_enc_decURL = \"https://jalammar.github.io/images/seq2seq_3.mp4\"\n",
        "HTML(f\"<video src='{seq2seq_enc_decURL}' autoplay loop width='800' height='600' controls></video>\")"
      ],
      "metadata": {
        "colab": {
          "base_uri": "https://localhost:8080/",
          "height": 621
        },
        "id": "A1Wxogp7C-e2",
        "outputId": "72fee0ec-a185-446f-e694-00f45893e470"
      },
      "id": "A1Wxogp7C-e2",
      "execution_count": 21,
      "outputs": [
        {
          "output_type": "execute_result",
          "data": {
            "text/plain": [
              "<IPython.core.display.HTML object>"
            ],
            "text/html": [
              "<video src='https://jalammar.github.io/images/seq2seq_3.mp4' autoplay loop width='800' height='600' controls></video>"
            ]
          },
          "metadata": {},
          "execution_count": 21
        }
      ]
    },
    {
      "cell_type": "markdown",
      "source": [
        "### Embeddings (Classical vs Contextual)"
      ],
      "metadata": {
        "id": "1c_rR6HEyroi"
      },
      "id": "1c_rR6HEyroi"
    },
    {
      "cell_type": "code",
      "source": [
        "contextEmbeddingURL = \"https://jalammar.github.io/images/context.png\"\n",
        "HTML(f\"<img src='{contextEmbeddingURL}' width='800' height='300' controls></img>\")"
      ],
      "metadata": {
        "colab": {
          "base_uri": "https://localhost:8080/",
          "height": 321
        },
        "id": "kYFtUHP3L_3q",
        "outputId": "375feb06-f2b4-451e-9f3d-1112cc2f6dcf"
      },
      "id": "kYFtUHP3L_3q",
      "execution_count": 79,
      "outputs": [
        {
          "output_type": "execute_result",
          "data": {
            "text/plain": [
              "<IPython.core.display.HTML object>"
            ],
            "text/html": [
              "<img src='https://jalammar.github.io/images/context.png' width='800' height='300' controls></img>"
            ]
          },
          "metadata": {},
          "execution_count": 79
        }
      ]
    },
    {
      "cell_type": "markdown",
      "source": [
        "## RNNs - Problems"
      ],
      "metadata": {
        "id": "C1ZTYQV6ySc8"
      },
      "id": "C1ZTYQV6ySc8"
    },
    {
      "cell_type": "code",
      "source": [
        "RNN_explanationURL = \"https://jalammar.github.io/images/RNN_1.mp4\"\n",
        "HTML(f\"<video src='{RNN_explanationURL}' autoplay loop width='800' height='600' controls></video>\")"
      ],
      "metadata": {
        "colab": {
          "base_uri": "https://localhost:8080/",
          "height": 621
        },
        "id": "wxoOZo9AMJli",
        "outputId": "668f82a4-a121-4e64-b468-33b3245bb267"
      },
      "id": "wxoOZo9AMJli",
      "execution_count": 80,
      "outputs": [
        {
          "output_type": "execute_result",
          "data": {
            "text/plain": [
              "<IPython.core.display.HTML object>"
            ],
            "text/html": [
              "<video src='https://jalammar.github.io/images/RNN_1.mp4' autoplay loop width='800' height='600' controls></video>"
            ]
          },
          "metadata": {},
          "execution_count": 80
        }
      ]
    },
    {
      "cell_type": "code",
      "source": [
        "RNN_neural_machine_translationURL = \"https://jalammar.github.io/images/seq2seq_6.mp4\"\n",
        "HTML(f\"<video src='{RNN_neural_machine_translationURL}' autoplay loop width='800' height='600' controls></video>\")"
      ],
      "metadata": {
        "colab": {
          "base_uri": "https://localhost:8080/",
          "height": 621
        },
        "id": "TimXN9ESMdxL",
        "outputId": "b744b375-6200-4358-c423-7fdf5c4befd8"
      },
      "id": "TimXN9ESMdxL",
      "execution_count": 81,
      "outputs": [
        {
          "output_type": "execute_result",
          "data": {
            "text/plain": [
              "<IPython.core.display.HTML object>"
            ],
            "text/html": [
              "<video src='https://jalammar.github.io/images/seq2seq_6.mp4' autoplay loop width='800' height='600' controls></video>"
            ]
          },
          "metadata": {},
          "execution_count": 81
        }
      ]
    },
    {
      "cell_type": "markdown",
      "source": [
        "## The Attention Mechanism"
      ],
      "metadata": {
        "id": "V6ZaoNyAyeNj"
      },
      "id": "V6ZaoNyAyeNj"
    },
    {
      "cell_type": "code",
      "source": [
        "attentionURL = \"https://jalammar.github.io/images/t/transformer_self-attention_visualization.png\"\n",
        "HTML(f\"<img src='{attentionURL}' width='600' height='600' controls></img>\")"
      ],
      "metadata": {
        "colab": {
          "base_uri": "https://localhost:8080/",
          "height": 621
        },
        "id": "uEgXNkquGMDl",
        "outputId": "1294e2e1-3366-49df-d7be-abe4771abdc4"
      },
      "id": "uEgXNkquGMDl",
      "execution_count": 29,
      "outputs": [
        {
          "output_type": "execute_result",
          "data": {
            "text/plain": [
              "<IPython.core.display.HTML object>"
            ],
            "text/html": [
              "<img src='https://jalammar.github.io/images/t/transformer_self-attention_visualization.png' width='600' height='600' controls></img>"
            ]
          },
          "metadata": {},
          "execution_count": 29
        }
      ]
    },
    {
      "cell_type": "code",
      "source": [
        "attention_computationURL = \"https://jalammar.github.io/images/t/self-attention-matrix-calculation.png\"\n",
        "HTML(f\"<img src='{attention_computationURL}' width='600' height='700' controls></img>\")"
      ],
      "metadata": {
        "id": "GPEBYGCtHRQ0",
        "outputId": "1f576dba-9312-4838-ef24-8e87dfd1fb8a",
        "colab": {
          "base_uri": "https://localhost:8080/",
          "height": 721
        }
      },
      "execution_count": null,
      "outputs": [
        {
          "output_type": "execute_result",
          "data": {
            "text/plain": [
              "<IPython.core.display.HTML object>"
            ],
            "text/html": [
              "<img src='https://jalammar.github.io/images/t/self-attention-matrix-calculation.png' width='600' height='700' controls></img>"
            ]
          },
          "metadata": {},
          "execution_count": 39
        }
      ],
      "id": "GPEBYGCtHRQ0"
    },
    {
      "cell_type": "code",
      "source": [
        "attention_weightsURL = \"https://jalammar.github.io/images/t/transformer_self_attention_vectors.png\"\n",
        "HTML(f\"<img src='{attention_weightsURL}' width='900' height='600' controls></img>\")"
      ],
      "metadata": {
        "colab": {
          "base_uri": "https://localhost:8080/",
          "height": 621
        },
        "id": "uq4XGk-NGwOl",
        "outputId": "a2559d6d-2b65-46ea-ee94-b03d0c237cc9"
      },
      "id": "uq4XGk-NGwOl",
      "execution_count": 34,
      "outputs": [
        {
          "output_type": "execute_result",
          "data": {
            "text/plain": [
              "<IPython.core.display.HTML object>"
            ],
            "text/html": [
              "<img src='https://jalammar.github.io/images/t/transformer_self_attention_vectors.png' width='900' height='600' controls></img>"
            ]
          },
          "metadata": {},
          "execution_count": 34
        }
      ]
    },
    {
      "cell_type": "code",
      "source": [
        "softmaxedURL = \"https://jalammar.github.io/images/t/self-attention-matrix-calculation-2.png\"\n",
        "HTML(f\"<img src='{softmaxedURL}' width='900' height='400' controls></img>\")"
      ],
      "metadata": {
        "colab": {
          "base_uri": "https://localhost:8080/",
          "height": 421
        },
        "id": "Fji3hAGqHm67",
        "outputId": "8bb99bd7-e472-46c7-b912-1b1a693e5c37"
      },
      "id": "Fji3hAGqHm67",
      "execution_count": 46,
      "outputs": [
        {
          "output_type": "execute_result",
          "data": {
            "text/plain": [
              "<IPython.core.display.HTML object>"
            ],
            "text/html": [
              "<img src='https://jalammar.github.io/images/t/self-attention-matrix-calculation-2.png' width='900' height='400' controls></img>"
            ]
          },
          "metadata": {},
          "execution_count": 46
        }
      ]
    },
    {
      "cell_type": "markdown",
      "source": [
        "## The Transformer Architecture"
      ],
      "metadata": {
        "id": "dT0OMRLRy5eC"
      },
      "id": "dT0OMRLRy5eC"
    },
    {
      "cell_type": "code",
      "source": [
        "transformerHoleURL = \"https://jalammar.github.io/images/t/transformer_resideual_layer_norm_3.png\"\n",
        "HTML(f\"<img src='{transformerHoleURL}' width='1000' height='600' controls></img>\")"
      ],
      "metadata": {
        "colab": {
          "base_uri": "https://localhost:8080/",
          "height": 621
        },
        "id": "NJJgkC_UKrdd",
        "outputId": "16c7df17-f1bb-4c32-88d7-cbbef887fff8"
      },
      "id": "NJJgkC_UKrdd",
      "execution_count": 75,
      "outputs": [
        {
          "output_type": "execute_result",
          "data": {
            "text/plain": [
              "<IPython.core.display.HTML object>"
            ],
            "text/html": [
              "<img src='https://jalammar.github.io/images/t/transformer_resideual_layer_norm_3.png' width='1000' height='600' controls></img>"
            ]
          },
          "metadata": {},
          "execution_count": 75
        }
      ]
    },
    {
      "cell_type": "code",
      "source": [
        "multiheadURL = \"https://jalammar.github.io/images/t/transformer_attention_heads_qkv.png\"\n",
        "HTML(f\"<img src='{multiheadURL}' width='900' height='600' controls></img>\")"
      ],
      "metadata": {
        "colab": {
          "base_uri": "https://localhost:8080/",
          "height": 621
        },
        "id": "28sOMzdAID6K",
        "outputId": "616d2de1-5f87-4782-9f2c-fd33128538d4"
      },
      "id": "28sOMzdAID6K",
      "execution_count": 47,
      "outputs": [
        {
          "output_type": "execute_result",
          "data": {
            "text/plain": [
              "<IPython.core.display.HTML object>"
            ],
            "text/html": [
              "<img src='https://jalammar.github.io/images/t/transformer_attention_heads_qkv.png' width='900' height='600' controls></img>"
            ]
          },
          "metadata": {},
          "execution_count": 47
        }
      ]
    },
    {
      "cell_type": "code",
      "source": [
        "multiheadConcatURL = \"https://jalammar.github.io/images/t/transformer_attention_heads_z.png\"\n",
        "HTML(f\"<img src='{multiheadConcatURL}' width='1000' height='600' controls></img>\")"
      ],
      "metadata": {
        "colab": {
          "base_uri": "https://localhost:8080/",
          "height": 621
        },
        "id": "P04xaGDnIKGi",
        "outputId": "d1b6bf22-4162-4a59-b980-91213808a103"
      },
      "id": "P04xaGDnIKGi",
      "execution_count": 49,
      "outputs": [
        {
          "output_type": "execute_result",
          "data": {
            "text/plain": [
              "<IPython.core.display.HTML object>"
            ],
            "text/html": [
              "<img src='https://jalammar.github.io/images/t/transformer_attention_heads_z.png' width='1000' height='600' controls></img>"
            ]
          },
          "metadata": {},
          "execution_count": 49
        }
      ]
    },
    {
      "cell_type": "code",
      "source": [
        "transformerURL = \"https://jalammar.github.io/images/t/transformer_multi-headed_self-attention-recap.png\"\n",
        "HTML(f\"<img src='{transformerURL}' width='1000' height='600' controls></img>\")"
      ],
      "metadata": {
        "colab": {
          "base_uri": "https://localhost:8080/",
          "height": 621
        },
        "id": "sNhjh3QTIVD6",
        "outputId": "7796cc68-d9d9-4701-c7d9-8e8777479d1f"
      },
      "id": "sNhjh3QTIVD6",
      "execution_count": 50,
      "outputs": [
        {
          "output_type": "execute_result",
          "data": {
            "text/plain": [
              "<IPython.core.display.HTML object>"
            ],
            "text/html": [
              "<img src='https://jalammar.github.io/images/t/transformer_multi-headed_self-attention-recap.png' width='1000' height='600' controls></img>"
            ]
          },
          "metadata": {},
          "execution_count": 50
        }
      ]
    },
    {
      "cell_type": "code",
      "source": [
        "neural_machine_translationpt1URL = \"https://jalammar.github.io/images/t/transformer_decoding_1.gif\"\n",
        "HTML(f\"<img src='{neural_machine_translationpt1URL}' width='1000' height='600' controls></img>\")"
      ],
      "metadata": {
        "id": "oDfDIe6SLXFt",
        "outputId": "b980dffc-f918-4712-ab9c-ac06da3e681a",
        "colab": {
          "base_uri": "https://localhost:8080/",
          "height": 621
        }
      },
      "execution_count": null,
      "outputs": [
        {
          "output_type": "execute_result",
          "data": {
            "text/plain": [
              "<IPython.core.display.HTML object>"
            ],
            "text/html": [
              "<img src='https://jalammar.github.io/images/t/transformer_decoding_1.gif' width='1000' height='600' controls></img>"
            ]
          },
          "metadata": {},
          "execution_count": 76
        }
      ],
      "id": "oDfDIe6SLXFt"
    },
    {
      "cell_type": "code",
      "source": [
        "neural_machine_translationpt2URL = \"https://jalammar.github.io/images/t/transformer_decoding_2.gif\"\n",
        "HTML(f\"<img src='{neural_machine_translationpt2URL}' width='1000' height='600' controls></img>\")"
      ],
      "metadata": {
        "id": "65TzlqlbLedE",
        "outputId": "a9ce0451-1419-4d08-83ec-b358e49a0ee6",
        "colab": {
          "base_uri": "https://localhost:8080/",
          "height": 621
        }
      },
      "execution_count": null,
      "outputs": [
        {
          "output_type": "execute_result",
          "data": {
            "text/plain": [
              "<IPython.core.display.HTML object>"
            ],
            "text/html": [
              "<img src='https://jalammar.github.io/images/t/transformer_decoding_2.gif' width='1000' height='600' controls></img>"
            ]
          },
          "metadata": {},
          "execution_count": 77
        }
      ],
      "id": "65TzlqlbLedE"
    },
    {
      "cell_type": "markdown",
      "source": [
        "# BERT"
      ],
      "metadata": {
        "id": "tCqq4ZLax9_s"
      },
      "id": "tCqq4ZLax9_s"
    },
    {
      "cell_type": "markdown",
      "source": [
        "## What is BERT"
      ],
      "metadata": {
        "id": "chNJSvEwzOuh"
      },
      "id": "chNJSvEwzOuh"
    },
    {
      "cell_type": "markdown",
      "source": [
        "## Internal Architecture"
      ],
      "metadata": {
        "id": "HaMVuVoazeXA"
      },
      "id": "HaMVuVoazeXA"
    },
    {
      "cell_type": "code",
      "source": [
        "encoder_archURL = \"https://jalammar.github.io/images/t/transformer_resideual_layer_norm.png\"\n",
        "HTML(f\"<img src='{encoder_archURL}' width='800' height='600' controls></img>\")"
      ],
      "metadata": {
        "colab": {
          "base_uri": "https://localhost:8080/",
          "height": 621
        },
        "id": "6NujP2taKIou",
        "outputId": "f7a7a977-3533-43f5-ba80-03b74638d63f"
      },
      "id": "6NujP2taKIou",
      "execution_count": 63,
      "outputs": [
        {
          "output_type": "execute_result",
          "data": {
            "text/plain": [
              "<IPython.core.display.HTML object>"
            ],
            "text/html": [
              "<img src='https://jalammar.github.io/images/t/transformer_resideual_layer_norm.png' width='800' height='600' controls></img>"
            ]
          },
          "metadata": {},
          "execution_count": 63
        }
      ]
    },
    {
      "cell_type": "markdown",
      "source": [
        "### Input (Tokens, embeddings, segment embeddings, positional encodings)"
      ],
      "metadata": {
        "id": "cN0a8rE4zgtp"
      },
      "id": "cN0a8rE4zgtp"
    },
    {
      "cell_type": "code",
      "source": [
        "positional_encodingURL = \"https://jalammar.github.io/images/t/transformer_positional_encoding_example.png\"\n",
        "HTML(f\"<img src='{positional_encodingURL}' width='1000' height='300' controls></img>\")\n"
      ],
      "metadata": {
        "colab": {
          "base_uri": "https://localhost:8080/",
          "height": 321
        },
        "id": "q97slRRaI67Z",
        "outputId": "263ae376-750a-4ff0-ddcd-a91c77077ee0"
      },
      "id": "q97slRRaI67Z",
      "execution_count": 56,
      "outputs": [
        {
          "output_type": "execute_result",
          "data": {
            "text/plain": [
              "<IPython.core.display.HTML object>"
            ],
            "text/html": [
              "<img src='https://jalammar.github.io/images/t/transformer_positional_encoding_example.png' width='1000' height='300' controls></img>"
            ]
          },
          "metadata": {},
          "execution_count": 56
        }
      ]
    },
    {
      "cell_type": "code",
      "source": [
        "positional_encoding_plotURL = \"https://jalammar.github.io/images/t/attention-is-all-you-need-positional-encoding.png\"\n",
        "HTML(f\"<img src='{positional_encoding_plotURL}' width='900' height='500' controls></img>\")"
      ],
      "metadata": {
        "colab": {
          "base_uri": "https://localhost:8080/",
          "height": 521
        },
        "id": "j3uquNpJJdoJ",
        "outputId": "6753d9a9-b412-4a9e-df74-0aad0d3cb93a"
      },
      "id": "j3uquNpJJdoJ",
      "execution_count": 60,
      "outputs": [
        {
          "output_type": "execute_result",
          "data": {
            "text/plain": [
              "<IPython.core.display.HTML object>"
            ],
            "text/html": [
              "<img src='https://jalammar.github.io/images/t/attention-is-all-you-need-positional-encoding.png' width='900' height='500' controls></img>"
            ]
          },
          "metadata": {},
          "execution_count": 60
        }
      ]
    },
    {
      "cell_type": "markdown",
      "source": [
        "### Multi-Head Self-Attention"
      ],
      "metadata": {
        "id": "80eWew1Iz7A_"
      },
      "id": "80eWew1Iz7A_"
    },
    {
      "cell_type": "markdown",
      "source": [
        "### Normalization and Skip Connections"
      ],
      "metadata": {
        "id": "zy1z9BGwz_JY"
      },
      "id": "zy1z9BGwz_JY"
    },
    {
      "cell_type": "code",
      "source": [
        "skipConnectionsURL = \"https://jalammar.github.io/images/t/transformer_resideual_layer_norm_2.png\"\n",
        "HTML(f\"<img src='{skipConnectionsURL}' width='700' height='600' controls></img>\")"
      ],
      "metadata": {
        "colab": {
          "base_uri": "https://localhost:8080/",
          "height": 621
        },
        "id": "Hm9XxzwuKVzG",
        "outputId": "80f37767-e0cb-4233-f9e5-a454b33536ef"
      },
      "id": "Hm9XxzwuKVzG",
      "execution_count": 70,
      "outputs": [
        {
          "output_type": "execute_result",
          "data": {
            "text/plain": [
              "<IPython.core.display.HTML object>"
            ],
            "text/html": [
              "<img src='https://jalammar.github.io/images/t/transformer_resideual_layer_norm_2.png' width='700' height='600' controls></img>"
            ]
          },
          "metadata": {},
          "execution_count": 70
        }
      ]
    },
    {
      "cell_type": "markdown",
      "source": [
        "### Feed Forward"
      ],
      "metadata": {
        "id": "XQGtD0mU0CbX"
      },
      "id": "XQGtD0mU0CbX"
    },
    {
      "cell_type": "markdown",
      "source": [
        "## BERT Pretraining"
      ],
      "metadata": {
        "id": "St4XQ7lRzR5Z"
      },
      "id": "St4XQ7lRzR5Z"
    },
    {
      "cell_type": "markdown",
      "source": [
        "### MLM"
      ],
      "metadata": {
        "id": "op8Qv3gT0GCn"
      },
      "id": "op8Qv3gT0GCn"
    },
    {
      "cell_type": "markdown",
      "source": [
        "### NSP ([CLS] token)"
      ],
      "metadata": {
        "id": "OpdoBu5a0H0f"
      },
      "id": "OpdoBu5a0H0f"
    },
    {
      "cell_type": "markdown",
      "source": [
        "# The Hugging Face Library"
      ],
      "metadata": {
        "id": "6_gOn9R3yFDz"
      },
      "id": "6_gOn9R3yFDz"
    }
  ],
  "metadata": {
    "kernelspec": {
      "display_name": "",
      "name": ""
    },
    "language_info": {
      "name": ""
    },
    "colab": {
      "provenance": []
    }
  },
  "nbformat": 4,
  "nbformat_minor": 5
}