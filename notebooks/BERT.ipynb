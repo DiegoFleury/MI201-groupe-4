{
 "cells": [
  {
   "cell_type": "code",
   "execution_count": null,
   "id": "3759d357-3df1-4ce9-ab0d-7b0214b6c24b",
   "metadata": {},
   "outputs": [],
   "source": []
  }
 ],
 "metadata": {
  "kernelspec": {
   "display_name": "",
   "name": ""
  },
  "language_info": {
   "name": ""
  }
 },
 "nbformat": 4,
 "nbformat_minor": 5
}
