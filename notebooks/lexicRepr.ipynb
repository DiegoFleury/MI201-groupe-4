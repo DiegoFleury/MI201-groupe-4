{
 "cells": [
  {
   "cell_type": "code",
   "execution_count": null,
   "id": "258d0f36-6b92-4ee4-bd26-28ba3c788651",
   "metadata": {},
   "outputs": [],
   "source": []
  }
 ],
 "metadata": {
  "kernelspec": {
   "display_name": "",
   "name": ""
  },
  "language_info": {
   "name": ""
  }
 },
 "nbformat": 4,
 "nbformat_minor": 5
}
