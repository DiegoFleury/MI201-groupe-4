{
 "cells": [
  {
   "cell_type": "code",
   "execution_count": null,
   "id": "1580fbdc-0aba-41ca-9274-7d20bb688635",
   "metadata": {},
   "outputs": [],
   "source": []
  }
 ],
 "metadata": {
  "kernelspec": {
   "display_name": "",
   "name": ""
  },
  "language_info": {
   "name": ""
  }
 },
 "nbformat": 4,
 "nbformat_minor": 5
}
