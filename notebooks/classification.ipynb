{
  "cells": [
    {
      "cell_type": "markdown",
      "source": [
        "# Classification\n",
        "## MI201\n",
        "\n",
        "##**Group 4** :\n",
        "- Diego FLEURY CORRÊA DE MORAES\n",
        "- Hazael SOLEDADE DE ARAUJO JUMONJI\n",
        "- Lucas DE OLIVEIRA MARTIM\n",
        "\n",
        "### Project 3 : **Sentiment Analysis Using LLMs**"
      ],
      "metadata": {
        "id": "HT5-j4wF4BET"
      },
      "id": "HT5-j4wF4BET"
    },
    {
      "cell_type": "code",
      "source": [
        "# Data handling\n",
        "from sklearn.model_selection import train_test_split\n",
        "import pandas as pd\n",
        "import numpy as np\n",
        "\n",
        "# Ploting\n",
        "import matplotlib.pyplot as plt\n",
        "import seaborn as sns\n",
        "\n",
        "# Text preprocessing\n",
        "import re\n",
        "import unicodedata\n",
        "\n",
        "# BERT\n",
        "from transformers import AutoTokenizer, AutoModel\n",
        "\n",
        "# Deep learning\n",
        "from torch.utils.data import Dataset, DataLoader\n",
        "import torch\n",
        "\n",
        "# Metrics\n",
        "from sklearn.metrics import accuracy_score, precision_score, recall_score, f1_score\n",
        "\n",
        "# Classic ML models\n",
        "from sklearn.svm import SVC\n",
        "from sklearn.ensemble import RandomForestClassifier\n",
        "from xgboost import XGBClassifier\n",
        "\n",
        "# Model selection\n",
        "from sklearn.model_selection import GridSearchCV, RandomizedSearchCV\n",
        "from sklearn.model_selection import cross_val_score"
      ],
      "metadata": {
        "id": "njRjm1wQBwhN"
      },
      "id": "njRjm1wQBwhN",
      "execution_count": 1,
      "outputs": []
    },
    {
      "cell_type": "markdown",
      "source": [
        "# Importing Data"
      ],
      "metadata": {
        "id": "BLhb6oA8BE8m"
      },
      "id": "BLhb6oA8BE8m"
    },
    {
      "cell_type": "code",
      "source": [
        "train_full = pd.read_csv('processed_train.csv')\n",
        "test_full = pd.read_csv('processed_test.csv')\n",
        "\n",
        "X_train, X_val, y_train, y_val = train_test_split(train_full['Text'], train_full['Sentiment'], test_size=0.2, random_state=42)\n",
        "X_test, y_test = test_full['Text'], test_full['Sentiment']"
      ],
      "metadata": {
        "id": "wOYLIiRHBprl"
      },
      "id": "wOYLIiRHBprl",
      "execution_count": 23,
      "outputs": []
    },
    {
      "cell_type": "code",
      "source": [
        "train_full.dropna(inplace=True)\n",
        "test_full.dropna(inplace=True)"
      ],
      "metadata": {
        "id": "OC8dWtB5dpow"
      },
      "id": "OC8dWtB5dpow",
      "execution_count": 24,
      "outputs": []
    },
    {
      "cell_type": "code",
      "source": [
        "X_train.reset_index(drop=True, inplace=True)\n",
        "X_val.reset_index(drop=True, inplace=True)\n",
        "X_test.reset_index(drop=True, inplace=True)\n",
        "\n",
        "y_train.reset_index(drop=True, inplace=True)\n",
        "y_val.reset_index(drop=True, inplace=True)\n",
        "y_test.reset_index(drop=True, inplace=True)"
      ],
      "metadata": {
        "id": "g6nk99U2NChx"
      },
      "id": "g6nk99U2NChx",
      "execution_count": 25,
      "outputs": []
    },
    {
      "cell_type": "code",
      "source": [
        "# Preprocessing the text\n",
        "\n",
        "def preprocess_text(text):\n",
        "    \"\"\"\n",
        "    Text preprocessing, removing accents, links, HTML, extra spaces and user names.\n",
        "\n",
        "    - Converts to lowercase.\n",
        "    - Removes accents.\n",
        "    - Removes HTML tags.\n",
        "    - Remove links (http, https, www).\n",
        "    - Removes extra spaces.\n",
        "    - Removes user names.\n",
        "    \"\"\"\n",
        "\n",
        "    if not isinstance(text, str):\n",
        "        return \"\"\n",
        "\n",
        "    # Lowercase\n",
        "    text = text.lower()\n",
        "\n",
        "    # Strip all accents\n",
        "    text = ''.join(c for c in unicodedata.normalize('NFKD', text) if unicodedata.category(c) != 'Mn')\n",
        "\n",
        "    # Removes links (http, https, www)\n",
        "    text = re.sub(r\"http\\S+|www\\S+\", \"\", text)\n",
        "\n",
        "    # Removes HTML tags\n",
        "    text = re.sub(r\"<.*?>\", \"\", text)\n",
        "\n",
        "    # Removes usernames\n",
        "    text = re.sub(r\"@\\w+\", \"\", text)\n",
        "\n",
        "    # Removes line breaks and excessive whitespaces\n",
        "    text = re.sub(r\"\\s+\", \" \", text).strip()\n",
        "\n",
        "    return text"
      ],
      "metadata": {
        "id": "jvX1qnqhCnNE"
      },
      "id": "jvX1qnqhCnNE",
      "execution_count": 26,
      "outputs": []
    },
    {
      "cell_type": "code",
      "source": [
        "X_train = X_train.apply(preprocess_text)\n",
        "X_val = X_val.apply(preprocess_text)\n",
        "X_test = X_test.apply(preprocess_text)"
      ],
      "metadata": {
        "id": "DM62ZEeaG_Tj"
      },
      "execution_count": 27,
      "outputs": [],
      "id": "DM62ZEeaG_Tj"
    },
    {
      "cell_type": "code",
      "source": [
        "sentiment_mapping = {'negative': 0, 'neutral': 1, 'positive': 2}\n",
        "y_train = y_train.map(sentiment_mapping)\n",
        "y_val = y_val.map(sentiment_mapping)\n",
        "y_test = y_test.map(sentiment_mapping)"
      ],
      "metadata": {
        "id": "ZNwV2g7bHY2C"
      },
      "id": "ZNwV2g7bHY2C",
      "execution_count": 28,
      "outputs": []
    },
    {
      "cell_type": "code",
      "source": [
        "X_train"
      ],
      "metadata": {
        "colab": {
          "base_uri": "https://localhost:8080/",
          "height": 459
        },
        "id": "BxLPclbdLmNj",
        "outputId": "255555b9-2f15-4c9c-82a6-54352885636e"
      },
      "id": "BxLPclbdLmNj",
      "execution_count": 29,
      "outputs": [
        {
          "output_type": "execute_result",
          "data": {
            "text/plain": [
              "0        oh, he`s hilarious. i`m just commenting on the...\n",
              "1        thanks for trying i was hoping bud trillin, bu...\n",
              "2        after show at our house rocked! saying goodbye...\n",
              "3        up at 4:30am west coast time..gettin ready to ...\n",
              "4        my computer is so slooowww this morning. i thi...\n",
              "                               ...                        \n",
              "21979                               feels like warm things\n",
              "21980                my best friend is in vegas without me\n",
              "21981                   - fire and urban at rock challenge\n",
              "21982                                 a+ for effort though\n",
              "21983    claire love the show, got into the office @ 5a...\n",
              "Name: Text, Length: 21984, dtype: object"
            ],
            "text/html": [
              "<div>\n",
              "<style scoped>\n",
              "    .dataframe tbody tr th:only-of-type {\n",
              "        vertical-align: middle;\n",
              "    }\n",
              "\n",
              "    .dataframe tbody tr th {\n",
              "        vertical-align: top;\n",
              "    }\n",
              "\n",
              "    .dataframe thead th {\n",
              "        text-align: right;\n",
              "    }\n",
              "</style>\n",
              "<table border=\"1\" class=\"dataframe\">\n",
              "  <thead>\n",
              "    <tr style=\"text-align: right;\">\n",
              "      <th></th>\n",
              "      <th>Text</th>\n",
              "    </tr>\n",
              "  </thead>\n",
              "  <tbody>\n",
              "    <tr>\n",
              "      <th>0</th>\n",
              "      <td>oh, he`s hilarious. i`m just commenting on the...</td>\n",
              "    </tr>\n",
              "    <tr>\n",
              "      <th>1</th>\n",
              "      <td>thanks for trying i was hoping bud trillin, bu...</td>\n",
              "    </tr>\n",
              "    <tr>\n",
              "      <th>2</th>\n",
              "      <td>after show at our house rocked! saying goodbye...</td>\n",
              "    </tr>\n",
              "    <tr>\n",
              "      <th>3</th>\n",
              "      <td>up at 4:30am west coast time..gettin ready to ...</td>\n",
              "    </tr>\n",
              "    <tr>\n",
              "      <th>4</th>\n",
              "      <td>my computer is so slooowww this morning. i thi...</td>\n",
              "    </tr>\n",
              "    <tr>\n",
              "      <th>...</th>\n",
              "      <td>...</td>\n",
              "    </tr>\n",
              "    <tr>\n",
              "      <th>21979</th>\n",
              "      <td>feels like warm things</td>\n",
              "    </tr>\n",
              "    <tr>\n",
              "      <th>21980</th>\n",
              "      <td>my best friend is in vegas without me</td>\n",
              "    </tr>\n",
              "    <tr>\n",
              "      <th>21981</th>\n",
              "      <td>- fire and urban at rock challenge</td>\n",
              "    </tr>\n",
              "    <tr>\n",
              "      <th>21982</th>\n",
              "      <td>a+ for effort though</td>\n",
              "    </tr>\n",
              "    <tr>\n",
              "      <th>21983</th>\n",
              "      <td>claire love the show, got into the office @ 5a...</td>\n",
              "    </tr>\n",
              "  </tbody>\n",
              "</table>\n",
              "<p>21984 rows × 1 columns</p>\n",
              "</div><br><label><b>dtype:</b> object</label>"
            ]
          },
          "metadata": {},
          "execution_count": 29
        }
      ]
    },
    {
      "cell_type": "code",
      "source": [
        "y_train"
      ],
      "metadata": {
        "colab": {
          "base_uri": "https://localhost:8080/",
          "height": 459
        },
        "id": "z0Gprp13KlT2",
        "outputId": "52c0560a-81b0-4335-fa10-71f580efe035"
      },
      "id": "z0Gprp13KlT2",
      "execution_count": 30,
      "outputs": [
        {
          "output_type": "execute_result",
          "data": {
            "text/plain": [
              "0        2\n",
              "1        2\n",
              "2        1\n",
              "3        2\n",
              "4        1\n",
              "        ..\n",
              "21979    1\n",
              "21980    1\n",
              "21981    1\n",
              "21982    2\n",
              "21983    2\n",
              "Name: Sentiment, Length: 21984, dtype: int64"
            ],
            "text/html": [
              "<div>\n",
              "<style scoped>\n",
              "    .dataframe tbody tr th:only-of-type {\n",
              "        vertical-align: middle;\n",
              "    }\n",
              "\n",
              "    .dataframe tbody tr th {\n",
              "        vertical-align: top;\n",
              "    }\n",
              "\n",
              "    .dataframe thead th {\n",
              "        text-align: right;\n",
              "    }\n",
              "</style>\n",
              "<table border=\"1\" class=\"dataframe\">\n",
              "  <thead>\n",
              "    <tr style=\"text-align: right;\">\n",
              "      <th></th>\n",
              "      <th>Sentiment</th>\n",
              "    </tr>\n",
              "  </thead>\n",
              "  <tbody>\n",
              "    <tr>\n",
              "      <th>0</th>\n",
              "      <td>2</td>\n",
              "    </tr>\n",
              "    <tr>\n",
              "      <th>1</th>\n",
              "      <td>2</td>\n",
              "    </tr>\n",
              "    <tr>\n",
              "      <th>2</th>\n",
              "      <td>1</td>\n",
              "    </tr>\n",
              "    <tr>\n",
              "      <th>3</th>\n",
              "      <td>2</td>\n",
              "    </tr>\n",
              "    <tr>\n",
              "      <th>4</th>\n",
              "      <td>1</td>\n",
              "    </tr>\n",
              "    <tr>\n",
              "      <th>...</th>\n",
              "      <td>...</td>\n",
              "    </tr>\n",
              "    <tr>\n",
              "      <th>21979</th>\n",
              "      <td>1</td>\n",
              "    </tr>\n",
              "    <tr>\n",
              "      <th>21980</th>\n",
              "      <td>1</td>\n",
              "    </tr>\n",
              "    <tr>\n",
              "      <th>21981</th>\n",
              "      <td>1</td>\n",
              "    </tr>\n",
              "    <tr>\n",
              "      <th>21982</th>\n",
              "      <td>2</td>\n",
              "    </tr>\n",
              "    <tr>\n",
              "      <th>21983</th>\n",
              "      <td>2</td>\n",
              "    </tr>\n",
              "  </tbody>\n",
              "</table>\n",
              "<p>21984 rows × 1 columns</p>\n",
              "</div><br><label><b>dtype:</b> int64</label>"
            ]
          },
          "metadata": {},
          "execution_count": 30
        }
      ]
    },
    {
      "cell_type": "code",
      "source": [
        "# Custom Dataset\n",
        "class TextDataset(Dataset):\n",
        "    def __init__(self, texts, labels, tokenizer, max_length):\n",
        "        \"\"\"\n",
        "        Args:\n",
        "            texts (list): List of text samples.\n",
        "            labels (list): List of sentiment labels (e.g., 0, 1).\n",
        "            tokenizer (transformers.BertTokenizer): Tokenizer for BERT.\n",
        "            max_length (int): Maximum length for tokenized sequences.\n",
        "        \"\"\"\n",
        "        self.texts = texts\n",
        "        self.labels = labels\n",
        "        self.tokenizer = tokenizer\n",
        "        self.max_length = max_length\n",
        "\n",
        "    def __len__(self):\n",
        "        return len(self.texts)\n",
        "\n",
        "    def __getitem__(self, idx):\n",
        "        # Tokenize and encode the text\n",
        "        text = self.texts.iloc[idx]\n",
        "        label = self.labels.iloc[idx]\n",
        "        encoding = self.tokenizer(\n",
        "            text,\n",
        "            truncation=True,\n",
        "            padding=\"max_length\",\n",
        "            max_length=self.max_length,\n",
        "            return_tensors=\"pt\"\n",
        "        )\n",
        "        return {\n",
        "            \"input_ids\": encoding[\"input_ids\"].squeeze(0),\n",
        "            \"attention_mask\": encoding[\"attention_mask\"].squeeze(0),\n",
        "            \"label\": torch.tensor(label, dtype=torch.long)\n",
        "        }\n",
        "\n",
        "# Extract embeddings for all data\n",
        "def extract_embeddings(model, dataloader, device):\n",
        "    \"\"\"\n",
        "    Extracts embeddings for all data using a pre-trained BERT model.\n",
        "\n",
        "    Args:\n",
        "        model (transformers.BertModel): Pre-trained BERT model.\n",
        "        dataloader (DataLoader): DataLoader for the dataset.\n",
        "        device (torch.device): Device to run the model on (CPU or GPU).\n",
        "\n",
        "    Returns:\n",
        "        torch.Tensor: A matrix of size (number_of_samples, embedding_size).\n",
        "    \"\"\"\n",
        "    model.eval()  # Set the model to evaluation mode\n",
        "    embeddings = []\n",
        "\n",
        "    with torch.no_grad():  # Disable gradient computation\n",
        "        for batch in dataloader:\n",
        "            input_ids = batch[\"input_ids\"].to(device)\n",
        "            attention_mask = batch[\"attention_mask\"].to(device)\n",
        "\n",
        "            # Forward pass through BERT\n",
        "            outputs = model(input_ids=input_ids, attention_mask=attention_mask)\n",
        "            pooled_output = outputs.pooler_output  # CLS token representation\n",
        "\n",
        "            # Append embeddings to the list\n",
        "            embeddings.append(pooled_output.cpu())\n",
        "\n",
        "    # Combine all embeddings into a single matrix\n",
        "    return torch.cat(embeddings, dim=0)\n",
        "\n",
        "# Custom Dataset\n",
        "class EmbeddingDataset(Dataset):\n",
        "    def __init__(self, embeddings, labels):\n",
        "        \"\"\"\n",
        "        Args:\n",
        "            texts (list): List of text samples.\n",
        "            labels (list): List of sentiment labels (e.g., 0, 1).\n",
        "            tokenizer (transformers.BertTokenizer): Tokenizer for BERT.\n",
        "            max_length (int): Maximum length for tokenized sequences.\n",
        "        \"\"\"\n",
        "        self.embeddings = embeddings\n",
        "        self.labels = labels\n",
        "\n",
        "    def __len__(self):\n",
        "        return len(self.embeddings)\n",
        "\n",
        "    def __getitem__(self, idx):\n",
        "        # Tokenize and encode the text\n",
        "        embeddings = self.embeddings[idx]\n",
        "        label = self.labels[idx]\n",
        "\n",
        "        return {\n",
        "            \"input_ids\": embeddings.squeeze(0),\n",
        "            \"label\": torch.tensor(label, dtype=torch.long)\n",
        "        }"
      ],
      "metadata": {
        "id": "meidY0NVsChh"
      },
      "execution_count": 31,
      "outputs": [],
      "id": "meidY0NVsChh"
    },
    {
      "cell_type": "code",
      "source": [
        "# Hyperparameters\n",
        "# PRETRAINED_MODEL = \"bert-base-uncased\"\n",
        "PRETRAINED_MODEL = \"cardiffnlp/twitter-roberta-base-sentiment\"\n",
        "MAX_LENGTH = 128\n",
        "BATCH_SIZE = 64\n",
        "NUM_CLASSES = 3\n",
        "LEARNING_RATE = 2e-5\n",
        "EPOCHS = 10\n",
        "device = torch.device(\"cuda\" if torch.cuda.is_available() else \"cpu\")\n",
        "\n",
        "# Initialize tokenizer\n",
        "tokenizer = AutoTokenizer.from_pretrained(PRETRAINED_MODEL)\n",
        "\n",
        "# Initialize the datasets\n",
        "train_dataset = TextDataset(X_train, y_train, tokenizer, MAX_LENGTH)\n",
        "val_dataset = TextDataset(X_val, y_val, tokenizer, MAX_LENGTH)\n",
        "\n",
        "# Initialize the dataloaders\n",
        "train_loader = DataLoader(train_dataset, batch_size=BATCH_SIZE, shuffle=False)\n",
        "val_loader = DataLoader(val_dataset, batch_size=BATCH_SIZE, shuffle=False)\n",
        "\n",
        "train_embeddings = None\n",
        "val_embeddings = None\n",
        "\n",
        "if torch.cuda.is_available():\n",
        "    print(\"CUDA is available. Using GPU.\")\n",
        "\n",
        "    # Get the bert model\n",
        "    bert = AutoModel.from_pretrained(PRETRAINED_MODEL).to(device)\n",
        "\n",
        "    # Extract embeddings (train)\n",
        "    train_embeddings = extract_embeddings(bert, train_loader, device)\n",
        "    train_embeddings =train_embeddings.cpu()\n",
        "\n",
        "    # Extract embeddings (val)\n",
        "    val_embeddings = extract_embeddings(bert, val_loader, device)\n",
        "    val_embeddings =val_embeddings.cpu()\n",
        "\n",
        "    # To save runtime next time\n",
        "    np.save('roberta_train_embeddings.npy', train_embeddings)\n",
        "    np.save('roberta_val_embeddings.npy', val_embeddings)\n",
        "else:\n",
        "    print(\"CUDA is not available. Using CPU.\")\n",
        "\n",
        "    train_embeddings = np.load(\"roberta_train_embeddings.npy\")\n",
        "    val_embeddings = np.load(\"roberta_val_embeddings.npy\")"
      ],
      "metadata": {
        "colab": {
          "base_uri": "https://localhost:8080/"
        },
        "id": "oHDGdX5EIbsR",
        "outputId": "fb96b401-1b25-4c96-c47f-0024b821cefd"
      },
      "id": "oHDGdX5EIbsR",
      "execution_count": 32,
      "outputs": [
        {
          "output_type": "stream",
          "name": "stdout",
          "text": [
            "CUDA is available. Using GPU.\n"
          ]
        },
        {
          "output_type": "stream",
          "name": "stderr",
          "text": [
            "Some weights of RobertaModel were not initialized from the model checkpoint at cardiffnlp/twitter-roberta-base-sentiment and are newly initialized: ['roberta.pooler.dense.bias', 'roberta.pooler.dense.weight']\n",
            "You should probably TRAIN this model on a down-stream task to be able to use it for predictions and inference.\n"
          ]
        }
      ]
    },
    {
      "cell_type": "code",
      "source": [
        "print(\"Valores únicos em y_train:\", np.unique(y_train))\n",
        "print(\"Tipo dos valores em y_train:\", type(y_train[0]))"
      ],
      "metadata": {
        "colab": {
          "base_uri": "https://localhost:8080/"
        },
        "id": "05_TKlzudiwA",
        "outputId": "3f7b854b-003f-4f42-c423-935709e37344"
      },
      "id": "05_TKlzudiwA",
      "execution_count": 34,
      "outputs": [
        {
          "output_type": "stream",
          "name": "stdout",
          "text": [
            "Valores únicos em y_train: [0 1 2]\n",
            "Tipo dos valores em y_train: <class 'numpy.int64'>\n"
          ]
        }
      ]
    },
    {
      "cell_type": "code",
      "source": [
        "train_embeddings.shape, val_embeddings.shape"
      ],
      "metadata": {
        "colab": {
          "base_uri": "https://localhost:8080/"
        },
        "id": "XAWR5yu1OQmG",
        "outputId": "d80b9e1c-d52e-4572-8c26-072acb4883d4"
      },
      "id": "XAWR5yu1OQmG",
      "execution_count": 35,
      "outputs": [
        {
          "output_type": "execute_result",
          "data": {
            "text/plain": [
              "(torch.Size([21984, 768]), torch.Size([5496, 768]))"
            ]
          },
          "metadata": {},
          "execution_count": 35
        }
      ]
    },
    {
      "cell_type": "code",
      "source": [
        "# Initialize the embedding datasets\n",
        "embedding_train_dataset = EmbeddingDataset(train_embeddings, y_train)\n",
        "embedding_val_dataset = EmbeddingDataset(val_embeddings, y_val)\n",
        "\n",
        "# Initialize the embedding dataloaders\n",
        "embedding_train_loader = DataLoader(embedding_train_dataset, batch_size=BATCH_SIZE, shuffle=True)\n",
        "embedding_val_loader = DataLoader(embedding_val_dataset, batch_size=BATCH_SIZE, shuffle=True)"
      ],
      "metadata": {
        "id": "W0X6VeclzYro"
      },
      "execution_count": 36,
      "outputs": [],
      "id": "W0X6VeclzYro"
    },
    {
      "cell_type": "markdown",
      "source": [
        "# Classical ML (SVM, Random Forest, XGBoost)"
      ],
      "metadata": {
        "id": "5amz4R5z4vCZ"
      },
      "id": "5amz4R5z4vCZ"
    },
    {
      "cell_type": "code",
      "source": [
        "from sklearn.decomposition import PCA\n",
        "\n",
        "explained_variance_ratio = .99\n",
        "\n",
        "# Aplicar PCA nos embeddings de treino\n",
        "pca = PCA(n_components=explained_variance_ratio)\n",
        "train_embeddings_pca = pca.fit_transform(train_embeddings)\n",
        "\n",
        "# Transformar os embeddings de validação/teste com o mesmo PCA treinado\n",
        "val_embeddings_pca = pca.transform(val_embeddings)\n",
        "# test_embeddings_pca = pca.transform(test_embeddings)"
      ],
      "metadata": {
        "id": "hPNphEYtSZdo"
      },
      "id": "hPNphEYtSZdo",
      "execution_count": 37,
      "outputs": []
    },
    {
      "cell_type": "code",
      "source": [
        "train_embeddings.shape, train_embeddings_pca.shape"
      ],
      "metadata": {
        "colab": {
          "base_uri": "https://localhost:8080/"
        },
        "id": "319zDTssR6Ev",
        "outputId": "0e8076f2-92d2-4a13-ab89-8b40e9a14e71"
      },
      "id": "319zDTssR6Ev",
      "execution_count": 38,
      "outputs": [
        {
          "output_type": "execute_result",
          "data": {
            "text/plain": [
              "(torch.Size([21984, 768]), (21984, 239))"
            ]
          },
          "metadata": {},
          "execution_count": 38
        }
      ]
    },
    {
      "cell_type": "markdown",
      "source": [
        "### SVM"
      ],
      "metadata": {
        "id": "Syg-B3uq5TwI"
      },
      "id": "Syg-B3uq5TwI"
    },
    {
      "cell_type": "code",
      "source": [
        "from sklearn.linear_model import SGDClassifier\n",
        "\n",
        "svm_sgd = SGDClassifier(loss='hinge', alpha=0.01, max_iter=2000, tol=1e-3)\n",
        "svm_sgd.fit(train_embeddings_pca, y_train)\n",
        "\n",
        "print(f\"Accuracy: {svm_sgd.score(val_embeddings_pca, y_val):.4f}\")\n"
      ],
      "metadata": {
        "colab": {
          "base_uri": "https://localhost:8080/"
        },
        "id": "2TF_ala8WhmP",
        "outputId": "ffa4628f-2c11-4bbd-f5d7-093bb6fbd121"
      },
      "id": "2TF_ala8WhmP",
      "execution_count": 39,
      "outputs": [
        {
          "output_type": "stream",
          "name": "stdout",
          "text": [
            "Accuracy: 0.7626\n"
          ]
        }
      ]
    },
    {
      "cell_type": "code",
      "source": [
        "from sklearn.svm import LinearSVC\n",
        "\n",
        "svm = LinearSVC(C=1.0, max_iter=5000)\n",
        "svm.fit(train_embeddings_pca, y_train)\n",
        "\n",
        "print(f\"Validation Accuracy: {svm.score(val_embeddings_pca, y_val):.4f}\")\n"
      ],
      "metadata": {
        "colab": {
          "base_uri": "https://localhost:8080/"
        },
        "id": "C6CwxoK8XJQ-",
        "outputId": "99f0313f-02bd-4ff4-9a81-8109c43f43ae"
      },
      "id": "C6CwxoK8XJQ-",
      "execution_count": 40,
      "outputs": [
        {
          "output_type": "stream",
          "name": "stdout",
          "text": [
            "Validation Accuracy: 0.7715\n"
          ]
        }
      ]
    },
    {
      "cell_type": "code",
      "source": [
        "from sklearn.linear_model import LogisticRegression\n",
        "\n",
        "# Criar e treinar o modelo de Regressão Logística\n",
        "logreg = LogisticRegression(\n",
        "    max_iter=500,       # Número máximo de iterações para convergência\n",
        "    C=1.0,              # Regularização (1.0 = padrão, pode ajustar)\n",
        "    solver=\"lbfgs\",     # Otimizador (funciona bem para embeddings grandes)\n",
        "    multi_class=\"multinomial\",  # Para classificação multiclasse\n",
        "    n_jobs=-1           # Usa múltiplos núcleos da CPU\n",
        ")\n",
        "\n",
        "logreg.fit(train_embeddings_pca, y_train)\n",
        "\n",
        "# Avaliação\n",
        "accuracy = logreg.score(val_embeddings_pca, y_val)\n",
        "print(f\"Validation Accuracy: {accuracy:.4f}\")\n",
        "\n",
        "# Fazer previsões\n",
        "logreg_predictions = logreg.predict(val_embeddings_pca)\n"
      ],
      "metadata": {
        "colab": {
          "base_uri": "https://localhost:8080/"
        },
        "id": "5J05NaflZOsv",
        "outputId": "88ece951-b0b5-4165-ea25-994f4754573b"
      },
      "id": "5J05NaflZOsv",
      "execution_count": 41,
      "outputs": [
        {
          "output_type": "stream",
          "name": "stderr",
          "text": [
            "/usr/local/lib/python3.11/dist-packages/sklearn/linear_model/_logistic.py:1247: FutureWarning: 'multi_class' was deprecated in version 1.5 and will be removed in 1.7. From then on, it will always use 'multinomial'. Leave it to its default value to avoid this warning.\n",
            "  warnings.warn(\n"
          ]
        },
        {
          "output_type": "stream",
          "name": "stdout",
          "text": [
            "Validation Accuracy: 0.7749\n"
          ]
        }
      ]
    },
    {
      "cell_type": "code",
      "source": [
        "# svm_params = {\n",
        "#     'C': [0.1, 1, 10],\n",
        "#     'kernel': ['linear']\n",
        "# }\n",
        "\n",
        "# svm_grid = GridSearchCV(SVC(), svm_params, cv=3, n_jobs=-1, verbose=10)\n",
        "# svm_grid.fit(train_embeddings_pca, y_train)\n",
        "\n",
        "# print(f\"Best parameters: {svm_grid.best_params_}\")\n",
        "# print(f\"Best score: {svm_grid.best_score_}\")\n",
        "\n",
        "# svm_best_model = svm_grid.best_estimator_\n",
        "# svm_best_model.fit(train_embeddings_pca, y_train)\n",
        "# svm_predictions = svm_best_model.predict(val_embeddings_pca)\n",
        "\n",
        "# generalization_error_estimate = 1 - svm_best_model.score(val_embeddings_pca, y_val)\n",
        "# print(f\"Generalization Error Estimate: {generalization_error_estimate}\")"
      ],
      "metadata": {
        "id": "pKKsjdOaPUXU"
      },
      "id": "pKKsjdOaPUXU",
      "execution_count": 42,
      "outputs": []
    },
    {
      "cell_type": "markdown",
      "source": [
        "### Random Forest"
      ],
      "metadata": {
        "id": "cWvzXwDG5VLR"
      },
      "id": "cWvzXwDG5VLR"
    },
    {
      "cell_type": "code",
      "source": [
        "from sklearn.ensemble import RandomForestClassifier\n",
        "\n",
        "# Criando e treinando o modelo Random Forest\n",
        "rf = RandomForestClassifier(\n",
        "    n_estimators=200,   # Número de árvores\n",
        "    max_depth=10,       # Profundidade máxima das árvores (ajustável)\n",
        "    n_jobs=-1,          # Usa todos os núcleos do processador\n",
        "    random_state=42\n",
        ")\n",
        "\n",
        "rf.fit(train_embeddings_pca, y_train)\n",
        "\n",
        "# Avaliação\n",
        "accuracy = rf.score(val_embeddings_pca, y_val)\n",
        "print(f\"Validation Accuracy: {accuracy:.4f}\")\n",
        "\n",
        "# Fazer previsões\n",
        "rf_predictions = rf.predict(val_embeddings_pca)\n"
      ],
      "metadata": {
        "colab": {
          "base_uri": "https://localhost:8080/"
        },
        "id": "KGlI7uj8QhoS",
        "outputId": "917f7855-68fa-4f68-f4a7-eea4cab02cab"
      },
      "id": "KGlI7uj8QhoS",
      "execution_count": 43,
      "outputs": [
        {
          "output_type": "stream",
          "name": "stdout",
          "text": [
            "Validation Accuracy: 0.7558\n"
          ]
        }
      ]
    },
    {
      "cell_type": "markdown",
      "source": [
        "### XGBoost"
      ],
      "metadata": {
        "id": "-O-Ff9T55W1g"
      },
      "id": "-O-Ff9T55W1g"
    },
    {
      "cell_type": "code",
      "source": [
        "class_counts = np.bincount(y_train)\n",
        "\n",
        "class_weights = {i: sum(class_counts) / class_counts[i] for i in range(len(class_counts))}\n",
        "\n",
        "# Criar o vetor de pesos para cada amostra do y_train\n",
        "sample_weights = np.array([class_weights[y] for y in y_train])"
      ],
      "metadata": {
        "id": "bE72-n-KahdB"
      },
      "id": "bE72-n-KahdB",
      "execution_count": 44,
      "outputs": []
    },
    {
      "cell_type": "code",
      "source": [
        "class_weights"
      ],
      "metadata": {
        "colab": {
          "base_uri": "https://localhost:8080/"
        },
        "id": "VcQW_k8Gapkm",
        "outputId": "25c4a9b5-460c-4103-8fb7-afb391900728"
      },
      "id": "VcQW_k8Gapkm",
      "execution_count": 45,
      "outputs": [
        {
          "output_type": "execute_result",
          "data": {
            "text/plain": [
              "{0: 3.540666774037687, 1: 2.475396914761851, 2: 3.188859878154917}"
            ]
          },
          "metadata": {},
          "execution_count": 45
        }
      ]
    },
    {
      "cell_type": "code",
      "source": [
        "from xgboost import XGBClassifier\n",
        "\n",
        "# Criar e treinar o modelo XGBoost\n",
        "xgb = XGBClassifier(\n",
        "    n_estimators=100,  # Número de árvores na floresta\n",
        "    max_depth=5,       # Profundidade máxima das árvores\n",
        "    learning_rate=0.01, # Taxa de aprendizado\n",
        "    use_label_encoder=False,  # Evita warnings desnecessários\n",
        "    eval_metric=\"mlogloss\",  # Métrica para classificação multiclasse\n",
        "    sample_weight = sample_weights # Balanceamento das classes\n",
        ")\n",
        "\n",
        "xgb.fit(train_embeddings_pca, y_train)\n",
        "\n",
        "# Avaliação no conjunto de validação\n",
        "accuracy = xgb.score(val_embeddings_pca, y_val)\n",
        "print(f\"Validation Accuracy: {accuracy:.4f}\")"
      ],
      "metadata": {
        "colab": {
          "base_uri": "https://localhost:8080/"
        },
        "id": "TRiBib6UXSzu",
        "outputId": "f1fc51b0-b608-413f-d3e5-60c951e9abd5"
      },
      "id": "TRiBib6UXSzu",
      "execution_count": 46,
      "outputs": [
        {
          "output_type": "stream",
          "name": "stderr",
          "text": [
            "/usr/local/lib/python3.11/dist-packages/xgboost/core.py:158: UserWarning: [17:09:13] WARNING: /workspace/src/learner.cc:740: \n",
            "Parameters: { \"sample_weight\", \"use_label_encoder\" } are not used.\n",
            "\n",
            "  warnings.warn(smsg, UserWarning)\n"
          ]
        },
        {
          "output_type": "stream",
          "name": "stdout",
          "text": [
            "Validation Accuracy: 0.7556\n"
          ]
        }
      ]
    },
    {
      "cell_type": "markdown",
      "source": [
        "# Neural Network"
      ],
      "metadata": {
        "id": "4ZL42k8R45tJ"
      },
      "id": "4ZL42k8R45tJ"
    },
    {
      "cell_type": "markdown",
      "source": [
        "# LLM"
      ],
      "metadata": {
        "id": "rHPnW0Mo5FWZ"
      },
      "id": "rHPnW0Mo5FWZ"
    },
    {
      "cell_type": "markdown",
      "source": [
        "### Fine Tuning with LoRA"
      ],
      "metadata": {
        "id": "Omt_e4jq5KAB"
      },
      "id": "Omt_e4jq5KAB"
    },
    {
      "cell_type": "code",
      "source": [],
      "metadata": {
        "id": "Uez-YDsz4msn"
      },
      "id": "Uez-YDsz4msn",
      "execution_count": null,
      "outputs": []
    }
  ],
  "metadata": {
    "kernelspec": {
      "display_name": "",
      "name": ""
    },
    "language_info": {
      "name": ""
    },
    "colab": {
      "provenance": [],
      "gpuType": "T4"
    },
    "accelerator": "GPU"
  },
  "nbformat": 4,
  "nbformat_minor": 5
}