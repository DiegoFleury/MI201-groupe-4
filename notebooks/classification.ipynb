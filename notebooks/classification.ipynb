{
  "cells": [
    {
      "cell_type": "markdown",
      "source": [
        "# Classification\n",
        "## MI201\n",
        "\n",
        "##**Group 4** :\n",
        "- Diego FLEURY CORRÊA DE MORAES\n",
        "- Hazael SOLEDADE DE ARAUJO JUMONJI\n",
        "- Lucas DE OLIVEIRA MARTIM\n",
        "\n",
        "### Project 3 : **Sentiment Analysis Using LLMs**"
      ],
      "metadata": {
        "id": "HT5-j4wF4BET"
      },
      "id": "HT5-j4wF4BET"
    },
    {
      "cell_type": "code",
      "source": [
        "# Data handling\n",
        "from sklearn.model_selection import train_test_split\n",
        "import pandas as pd\n",
        "import numpy as np\n",
        "\n",
        "# Ploting\n",
        "import matplotlib.pyplot as plt\n",
        "import seaborn as sns\n",
        "\n",
        "# Text preprocessing\n",
        "import re\n",
        "import unicodedata\n",
        "\n",
        "# BERT\n",
        "from transformers import AutoTokenizer, AutoModel\n",
        "\n",
        "# Deep learning\n",
        "from torch.utils.data import Dataset, DataLoader\n",
        "import torch\n",
        "import torch.nn as nn\n",
        "import torch.optim as optim\n",
        "\n",
        "# Metrics\n",
        "from sklearn.metrics import accuracy_score, precision_score, recall_score, f1_score\n",
        "\n",
        "# Classic ML models\n",
        "from sklearn.svm import SVC\n",
        "from sklearn.ensemble import RandomForestClassifier\n",
        "from xgboost import XGBClassifier\n",
        "\n",
        "# Model selection\n",
        "from sklearn.model_selection import GridSearchCV, RandomizedSearchCV\n",
        "from sklearn.model_selection import cross_val_score"
      ],
      "metadata": {
        "id": "njRjm1wQBwhN"
      },
      "id": "njRjm1wQBwhN",
      "execution_count": 31,
      "outputs": []
    },
    {
      "cell_type": "markdown",
      "source": [
        "# Importing Data"
      ],
      "metadata": {
        "id": "BLhb6oA8BE8m"
      },
      "id": "BLhb6oA8BE8m"
    },
    {
      "cell_type": "code",
      "source": [
        "train_full = pd.read_csv('processed_train.csv')\n",
        "test_full = pd.read_csv('processed_test.csv')\n",
        "\n",
        "X_train, X_val, y_train, y_val = train_test_split(train_full['Text'], train_full['Sentiment'], test_size=0.2, random_state=42)\n",
        "X_test, y_test = test_full['Text'], test_full['Sentiment']"
      ],
      "metadata": {
        "id": "wOYLIiRHBprl"
      },
      "id": "wOYLIiRHBprl",
      "execution_count": 2,
      "outputs": []
    },
    {
      "cell_type": "code",
      "source": [
        "train_full.dropna(inplace=True)\n",
        "test_full.dropna(inplace=True)"
      ],
      "metadata": {
        "id": "OC8dWtB5dpow"
      },
      "id": "OC8dWtB5dpow",
      "execution_count": 3,
      "outputs": []
    },
    {
      "cell_type": "code",
      "source": [
        "X_train.reset_index(drop=True, inplace=True)\n",
        "X_val.reset_index(drop=True, inplace=True)\n",
        "X_test.reset_index(drop=True, inplace=True)\n",
        "\n",
        "y_train.reset_index(drop=True, inplace=True)\n",
        "y_val.reset_index(drop=True, inplace=True)\n",
        "y_test.reset_index(drop=True, inplace=True)"
      ],
      "metadata": {
        "id": "g6nk99U2NChx"
      },
      "id": "g6nk99U2NChx",
      "execution_count": 4,
      "outputs": []
    },
    {
      "cell_type": "code",
      "source": [
        "# Preprocessing the text\n",
        "\n",
        "def preprocess_text(text):\n",
        "    \"\"\"\n",
        "    Text preprocessing, removing accents, links, HTML, extra spaces and user names.\n",
        "\n",
        "    - Converts to lowercase.\n",
        "    - Removes accents.\n",
        "    - Removes HTML tags.\n",
        "    - Remove links (http, https, www).\n",
        "    - Removes extra spaces.\n",
        "    - Removes user names.\n",
        "    \"\"\"\n",
        "\n",
        "    if not isinstance(text, str):\n",
        "        return \"\"\n",
        "\n",
        "    # Lowercase\n",
        "    text = text.lower()\n",
        "\n",
        "    # Strip all accents\n",
        "    text = ''.join(c for c in unicodedata.normalize('NFKD', text) if unicodedata.category(c) != 'Mn')\n",
        "\n",
        "    # Removes links (http, https, www)\n",
        "    text = re.sub(r\"http\\S+|www\\S+\", \"\", text)\n",
        "\n",
        "    # Removes HTML tags\n",
        "    text = re.sub(r\"<.*?>\", \"\", text)\n",
        "\n",
        "    # Removes usernames\n",
        "    text = re.sub(r\"@\\w+\", \"\", text)\n",
        "\n",
        "    # Removes line breaks and excessive whitespaces\n",
        "    text = re.sub(r\"\\s+\", \" \", text).strip()\n",
        "\n",
        "    return text"
      ],
      "metadata": {
        "id": "jvX1qnqhCnNE"
      },
      "id": "jvX1qnqhCnNE",
      "execution_count": 5,
      "outputs": []
    },
    {
      "cell_type": "code",
      "source": [
        "X_train = X_train.apply(preprocess_text)\n",
        "X_val = X_val.apply(preprocess_text)\n",
        "X_test = X_test.apply(preprocess_text)"
      ],
      "metadata": {
        "id": "DM62ZEeaG_Tj"
      },
      "execution_count": 6,
      "outputs": [],
      "id": "DM62ZEeaG_Tj"
    },
    {
      "cell_type": "code",
      "source": [
        "sentiment_mapping = {'negative': 0, 'neutral': 1, 'positive': 2}\n",
        "y_train = y_train.map(sentiment_mapping)\n",
        "y_val = y_val.map(sentiment_mapping)\n",
        "y_test = y_test.map(sentiment_mapping)"
      ],
      "metadata": {
        "id": "ZNwV2g7bHY2C"
      },
      "id": "ZNwV2g7bHY2C",
      "execution_count": 7,
      "outputs": []
    },
    {
      "cell_type": "code",
      "source": [
        "X_train"
      ],
      "metadata": {
        "colab": {
          "base_uri": "https://localhost:8080/",
          "height": 459
        },
        "id": "BxLPclbdLmNj",
        "outputId": "19860527-9f15-46bd-b536-4d657d9b17c6"
      },
      "id": "BxLPclbdLmNj",
      "execution_count": 8,
      "outputs": [
        {
          "output_type": "execute_result",
          "data": {
            "text/plain": [
              "0        oh, he`s hilarious. i`m just commenting on the...\n",
              "1        thanks for trying i was hoping bud trillin, bu...\n",
              "2        after show at our house rocked! saying goodbye...\n",
              "3        up at 4:30am west coast time..gettin ready to ...\n",
              "4        my computer is so slooowww this morning. i thi...\n",
              "                               ...                        \n",
              "21979                               feels like warm things\n",
              "21980                my best friend is in vegas without me\n",
              "21981                   - fire and urban at rock challenge\n",
              "21982                                 a+ for effort though\n",
              "21983    claire love the show, got into the office @ 5a...\n",
              "Name: Text, Length: 21984, dtype: object"
            ],
            "text/html": [
              "<div>\n",
              "<style scoped>\n",
              "    .dataframe tbody tr th:only-of-type {\n",
              "        vertical-align: middle;\n",
              "    }\n",
              "\n",
              "    .dataframe tbody tr th {\n",
              "        vertical-align: top;\n",
              "    }\n",
              "\n",
              "    .dataframe thead th {\n",
              "        text-align: right;\n",
              "    }\n",
              "</style>\n",
              "<table border=\"1\" class=\"dataframe\">\n",
              "  <thead>\n",
              "    <tr style=\"text-align: right;\">\n",
              "      <th></th>\n",
              "      <th>Text</th>\n",
              "    </tr>\n",
              "  </thead>\n",
              "  <tbody>\n",
              "    <tr>\n",
              "      <th>0</th>\n",
              "      <td>oh, he`s hilarious. i`m just commenting on the...</td>\n",
              "    </tr>\n",
              "    <tr>\n",
              "      <th>1</th>\n",
              "      <td>thanks for trying i was hoping bud trillin, bu...</td>\n",
              "    </tr>\n",
              "    <tr>\n",
              "      <th>2</th>\n",
              "      <td>after show at our house rocked! saying goodbye...</td>\n",
              "    </tr>\n",
              "    <tr>\n",
              "      <th>3</th>\n",
              "      <td>up at 4:30am west coast time..gettin ready to ...</td>\n",
              "    </tr>\n",
              "    <tr>\n",
              "      <th>4</th>\n",
              "      <td>my computer is so slooowww this morning. i thi...</td>\n",
              "    </tr>\n",
              "    <tr>\n",
              "      <th>...</th>\n",
              "      <td>...</td>\n",
              "    </tr>\n",
              "    <tr>\n",
              "      <th>21979</th>\n",
              "      <td>feels like warm things</td>\n",
              "    </tr>\n",
              "    <tr>\n",
              "      <th>21980</th>\n",
              "      <td>my best friend is in vegas without me</td>\n",
              "    </tr>\n",
              "    <tr>\n",
              "      <th>21981</th>\n",
              "      <td>- fire and urban at rock challenge</td>\n",
              "    </tr>\n",
              "    <tr>\n",
              "      <th>21982</th>\n",
              "      <td>a+ for effort though</td>\n",
              "    </tr>\n",
              "    <tr>\n",
              "      <th>21983</th>\n",
              "      <td>claire love the show, got into the office @ 5a...</td>\n",
              "    </tr>\n",
              "  </tbody>\n",
              "</table>\n",
              "<p>21984 rows × 1 columns</p>\n",
              "</div><br><label><b>dtype:</b> object</label>"
            ]
          },
          "metadata": {},
          "execution_count": 8
        }
      ]
    },
    {
      "cell_type": "code",
      "source": [
        "y_train"
      ],
      "metadata": {
        "colab": {
          "base_uri": "https://localhost:8080/",
          "height": 459
        },
        "id": "z0Gprp13KlT2",
        "outputId": "e965f5da-81ab-455e-9bf8-46da7aee597d"
      },
      "id": "z0Gprp13KlT2",
      "execution_count": 9,
      "outputs": [
        {
          "output_type": "execute_result",
          "data": {
            "text/plain": [
              "0        2\n",
              "1        2\n",
              "2        1\n",
              "3        2\n",
              "4        1\n",
              "        ..\n",
              "21979    1\n",
              "21980    1\n",
              "21981    1\n",
              "21982    2\n",
              "21983    2\n",
              "Name: Sentiment, Length: 21984, dtype: int64"
            ],
            "text/html": [
              "<div>\n",
              "<style scoped>\n",
              "    .dataframe tbody tr th:only-of-type {\n",
              "        vertical-align: middle;\n",
              "    }\n",
              "\n",
              "    .dataframe tbody tr th {\n",
              "        vertical-align: top;\n",
              "    }\n",
              "\n",
              "    .dataframe thead th {\n",
              "        text-align: right;\n",
              "    }\n",
              "</style>\n",
              "<table border=\"1\" class=\"dataframe\">\n",
              "  <thead>\n",
              "    <tr style=\"text-align: right;\">\n",
              "      <th></th>\n",
              "      <th>Sentiment</th>\n",
              "    </tr>\n",
              "  </thead>\n",
              "  <tbody>\n",
              "    <tr>\n",
              "      <th>0</th>\n",
              "      <td>2</td>\n",
              "    </tr>\n",
              "    <tr>\n",
              "      <th>1</th>\n",
              "      <td>2</td>\n",
              "    </tr>\n",
              "    <tr>\n",
              "      <th>2</th>\n",
              "      <td>1</td>\n",
              "    </tr>\n",
              "    <tr>\n",
              "      <th>3</th>\n",
              "      <td>2</td>\n",
              "    </tr>\n",
              "    <tr>\n",
              "      <th>4</th>\n",
              "      <td>1</td>\n",
              "    </tr>\n",
              "    <tr>\n",
              "      <th>...</th>\n",
              "      <td>...</td>\n",
              "    </tr>\n",
              "    <tr>\n",
              "      <th>21979</th>\n",
              "      <td>1</td>\n",
              "    </tr>\n",
              "    <tr>\n",
              "      <th>21980</th>\n",
              "      <td>1</td>\n",
              "    </tr>\n",
              "    <tr>\n",
              "      <th>21981</th>\n",
              "      <td>1</td>\n",
              "    </tr>\n",
              "    <tr>\n",
              "      <th>21982</th>\n",
              "      <td>2</td>\n",
              "    </tr>\n",
              "    <tr>\n",
              "      <th>21983</th>\n",
              "      <td>2</td>\n",
              "    </tr>\n",
              "  </tbody>\n",
              "</table>\n",
              "<p>21984 rows × 1 columns</p>\n",
              "</div><br><label><b>dtype:</b> int64</label>"
            ]
          },
          "metadata": {},
          "execution_count": 9
        }
      ]
    },
    {
      "cell_type": "code",
      "source": [
        "# Custom Dataset\n",
        "class TextDataset(Dataset):\n",
        "    def __init__(self, texts, labels, tokenizer, max_length):\n",
        "        \"\"\"\n",
        "        Args:\n",
        "            texts (list): List of text samples.\n",
        "            labels (list): List of sentiment labels (e.g., 0, 1).\n",
        "            tokenizer (transformers.BertTokenizer): Tokenizer for BERT.\n",
        "            max_length (int): Maximum length for tokenized sequences.\n",
        "        \"\"\"\n",
        "        self.texts = texts\n",
        "        self.labels = labels\n",
        "        self.tokenizer = tokenizer\n",
        "        self.max_length = max_length\n",
        "\n",
        "    def __len__(self):\n",
        "        return len(self.texts)\n",
        "\n",
        "    def __getitem__(self, idx):\n",
        "        # Tokenize and encode the text\n",
        "        text = self.texts.iloc[idx]\n",
        "        label = self.labels.iloc[idx]\n",
        "        encoding = self.tokenizer(\n",
        "            text,\n",
        "            truncation=True,\n",
        "            padding=\"max_length\",\n",
        "            max_length=self.max_length,\n",
        "            return_tensors=\"pt\"\n",
        "        )\n",
        "        return {\n",
        "            \"input_ids\": encoding[\"input_ids\"].squeeze(0),\n",
        "            \"attention_mask\": encoding[\"attention_mask\"].squeeze(0),\n",
        "            \"label\": torch.tensor(label, dtype=torch.long)\n",
        "        }\n",
        "\n",
        "# Extract embeddings for all data\n",
        "def extract_embeddings(model, dataloader, device):\n",
        "    \"\"\"\n",
        "    Extracts embeddings for all data using a pre-trained BERT model.\n",
        "\n",
        "    Args:\n",
        "        model (transformers.BertModel): Pre-trained BERT model.\n",
        "        dataloader (DataLoader): DataLoader for the dataset.\n",
        "        device (torch.device): Device to run the model on (CPU or GPU).\n",
        "\n",
        "    Returns:\n",
        "        torch.Tensor: A matrix of size (number_of_samples, embedding_size).\n",
        "    \"\"\"\n",
        "    model.eval()  # Set the model to evaluation mode\n",
        "    embeddings = []\n",
        "\n",
        "    with torch.no_grad():  # Disable gradient computation\n",
        "        for batch in dataloader:\n",
        "            input_ids = batch[\"input_ids\"].to(device)\n",
        "            attention_mask = batch[\"attention_mask\"].to(device)\n",
        "\n",
        "            # Forward pass through BERT\n",
        "            outputs = model(input_ids=input_ids, attention_mask=attention_mask)\n",
        "            pooled_output = outputs.pooler_output  # CLS token representation\n",
        "\n",
        "            # Append embeddings to the list\n",
        "            embeddings.append(pooled_output.cpu())\n",
        "\n",
        "    # Combine all embeddings into a single matrix\n",
        "    return torch.cat(embeddings, dim=0)\n",
        "\n",
        "# Custom Dataset\n",
        "class EmbeddingDataset(Dataset):\n",
        "    def __init__(self, embeddings, labels):\n",
        "        \"\"\"\n",
        "        Args:\n",
        "            texts (list): List of text samples.\n",
        "            labels (list): List of sentiment labels (e.g., 0, 1).\n",
        "            tokenizer (transformers.BertTokenizer): Tokenizer for BERT.\n",
        "            max_length (int): Maximum length for tokenized sequences.\n",
        "        \"\"\"\n",
        "        self.embeddings = embeddings\n",
        "        self.labels = labels\n",
        "\n",
        "    def __len__(self):\n",
        "        return len(self.embeddings)\n",
        "\n",
        "    def __getitem__(self, idx):\n",
        "        # Tokenize and encode the text\n",
        "        embeddings = self.embeddings[idx]\n",
        "        label = self.labels[idx]\n",
        "\n",
        "        return {\n",
        "            \"input_ids\": embeddings,\n",
        "            \"label\": torch.tensor(label, dtype=torch.long)\n",
        "        }"
      ],
      "metadata": {
        "id": "meidY0NVsChh"
      },
      "execution_count": 34,
      "outputs": [],
      "id": "meidY0NVsChh"
    },
    {
      "cell_type": "code",
      "source": [
        "# Hyperparameters\n",
        "# PRETRAINED_MODEL = \"bert-base-uncased\"\n",
        "PRETRAINED_MODEL = \"cardiffnlp/twitter-roberta-base-sentiment\"\n",
        "MAX_LENGTH = 128\n",
        "BATCH_SIZE = 64\n",
        "device = torch.device(\"cuda\" if torch.cuda.is_available() else \"cpu\")\n",
        "\n",
        "# Initialize tokenizer\n",
        "tokenizer = AutoTokenizer.from_pretrained(PRETRAINED_MODEL)\n",
        "\n",
        "# Initialize the datasets\n",
        "train_dataset = TextDataset(X_train, y_train, tokenizer, MAX_LENGTH)\n",
        "val_dataset = TextDataset(X_val, y_val, tokenizer, MAX_LENGTH)\n",
        "\n",
        "# Initialize the dataloaders\n",
        "train_loader = DataLoader(train_dataset, batch_size=BATCH_SIZE, shuffle=False)\n",
        "val_loader = DataLoader(val_dataset, batch_size=BATCH_SIZE, shuffle=False)\n",
        "\n",
        "train_embeddings = None\n",
        "val_embeddings = None\n",
        "\n",
        "load_embeddings = True\n",
        "\n",
        "if not load_embeddings:\n",
        "    # Get the bert model\n",
        "    bert = AutoModel.from_pretrained(PRETRAINED_MODEL).to(device)\n",
        "\n",
        "    # Extract embeddings (train)\n",
        "    train_embeddings = extract_embeddings(bert, train_loader, device)\n",
        "    train_embeddings =train_embeddings.cpu()\n",
        "\n",
        "    # Extract embeddings (val)\n",
        "    val_embeddings = extract_embeddings(bert, val_loader, device)\n",
        "    val_embeddings =val_embeddings.cpu()\n",
        "\n",
        "    # To save runtime next time\n",
        "    np.save('roberta_train_embeddings.npy', train_embeddings)\n",
        "    np.save('roberta_val_embeddings.npy', val_embeddings)\n",
        "else:\n",
        "    train_embeddings = np.load(\"roberta_train_embeddings.npy\")\n",
        "    val_embeddings = np.load(\"roberta_val_embeddings.npy\")"
      ],
      "metadata": {
        "id": "oHDGdX5EIbsR"
      },
      "id": "oHDGdX5EIbsR",
      "execution_count": 35,
      "outputs": []
    },
    {
      "cell_type": "code",
      "source": [
        "print(\"Valores únicos em y_train:\", np.unique(y_train))\n",
        "print(\"Tipo dos valores em y_train:\", type(y_train[0]))"
      ],
      "metadata": {
        "colab": {
          "base_uri": "https://localhost:8080/"
        },
        "id": "05_TKlzudiwA",
        "outputId": "0a3cffe5-a467-4ff6-a89f-44969a55efbe"
      },
      "id": "05_TKlzudiwA",
      "execution_count": 36,
      "outputs": [
        {
          "output_type": "stream",
          "name": "stdout",
          "text": [
            "Valores únicos em y_train: [0 1 2]\n",
            "Tipo dos valores em y_train: <class 'numpy.int64'>\n"
          ]
        }
      ]
    },
    {
      "cell_type": "code",
      "source": [
        "train_embeddings.shape, val_embeddings.shape"
      ],
      "metadata": {
        "colab": {
          "base_uri": "https://localhost:8080/"
        },
        "id": "XAWR5yu1OQmG",
        "outputId": "02b5ff3c-d032-4389-d764-1a95743bac6d"
      },
      "id": "XAWR5yu1OQmG",
      "execution_count": 37,
      "outputs": [
        {
          "output_type": "execute_result",
          "data": {
            "text/plain": [
              "((21984, 768), (5496, 768))"
            ]
          },
          "metadata": {},
          "execution_count": 37
        }
      ]
    },
    {
      "cell_type": "code",
      "source": [
        "# Initialize the embedding datasets\n",
        "embedding_train_dataset = EmbeddingDataset(train_embeddings, y_train)\n",
        "embedding_val_dataset = EmbeddingDataset(val_embeddings, y_val)\n",
        "\n",
        "# Initialize the embedding dataloaders\n",
        "embedding_train_loader = DataLoader(embedding_train_dataset, batch_size=BATCH_SIZE, shuffle=True)\n",
        "embedding_val_loader = DataLoader(embedding_val_dataset, batch_size=BATCH_SIZE, shuffle=True)"
      ],
      "metadata": {
        "id": "W0X6VeclzYro"
      },
      "execution_count": 38,
      "outputs": [],
      "id": "W0X6VeclzYro"
    },
    {
      "cell_type": "markdown",
      "source": [
        "# Classical ML (SVM, Random Forest, XGBoost)"
      ],
      "metadata": {
        "id": "5amz4R5z4vCZ"
      },
      "id": "5amz4R5z4vCZ"
    },
    {
      "cell_type": "code",
      "source": [
        "# from sklearn.decomposition import PCA, KernelPCA\n",
        "\n",
        "# # explained_variance_ratio = .99\n",
        "# n_components = 50\n",
        "\n",
        "# # Aplicar PCA nos embeddings de treino\n",
        "# # pca = PCA(n_components=explained_variance_ratio)\n",
        "# kpca = KernelPCA(n_components = n_components, kernel = \"rbf\")\n",
        "\n",
        "# train_embeddings_pca = kpca.fit_transform(train_embeddings)\n",
        "\n",
        "# # Transformar os embeddings de validação/teste com o mesmo PCA treinado\n",
        "# val_embeddings_pca = kpca.transform(val_embeddings)\n",
        "# # test_embeddings_pca = pca.transform(test_embeddings)"
      ],
      "metadata": {
        "id": "hPNphEYtSZdo"
      },
      "id": "hPNphEYtSZdo",
      "execution_count": 15,
      "outputs": []
    },
    {
      "cell_type": "code",
      "source": [
        "! pip install umap-learn"
      ],
      "metadata": {
        "colab": {
          "base_uri": "https://localhost:8080/"
        },
        "id": "gwcDJyz_hWdT",
        "outputId": "ed205595-1c6a-4e76-c502-80d48037f2c0"
      },
      "id": "gwcDJyz_hWdT",
      "execution_count": 19,
      "outputs": [
        {
          "output_type": "stream",
          "name": "stdout",
          "text": [
            "Collecting umap-learn\n",
            "  Downloading umap_learn-0.5.7-py3-none-any.whl.metadata (21 kB)\n",
            "Requirement already satisfied: numpy>=1.17 in /usr/local/lib/python3.11/dist-packages (from umap-learn) (1.26.4)\n",
            "Requirement already satisfied: scipy>=1.3.1 in /usr/local/lib/python3.11/dist-packages (from umap-learn) (1.13.1)\n",
            "Requirement already satisfied: scikit-learn>=0.22 in /usr/local/lib/python3.11/dist-packages (from umap-learn) (1.6.1)\n",
            "Requirement already satisfied: numba>=0.51.2 in /usr/local/lib/python3.11/dist-packages (from umap-learn) (0.60.0)\n",
            "Collecting pynndescent>=0.5 (from umap-learn)\n",
            "  Downloading pynndescent-0.5.13-py3-none-any.whl.metadata (6.8 kB)\n",
            "Requirement already satisfied: tqdm in /usr/local/lib/python3.11/dist-packages (from umap-learn) (4.67.1)\n",
            "Requirement already satisfied: llvmlite<0.44,>=0.43.0dev0 in /usr/local/lib/python3.11/dist-packages (from numba>=0.51.2->umap-learn) (0.43.0)\n",
            "Requirement already satisfied: joblib>=0.11 in /usr/local/lib/python3.11/dist-packages (from pynndescent>=0.5->umap-learn) (1.4.2)\n",
            "Requirement already satisfied: threadpoolctl>=3.1.0 in /usr/local/lib/python3.11/dist-packages (from scikit-learn>=0.22->umap-learn) (3.5.0)\n",
            "Downloading umap_learn-0.5.7-py3-none-any.whl (88 kB)\n",
            "\u001b[2K   \u001b[90m━━━━━━━━━━━━━━━━━━━━━━━━━━━━━━━━━━━━━━━━\u001b[0m \u001b[32m88.8/88.8 kB\u001b[0m \u001b[31m3.7 MB/s\u001b[0m eta \u001b[36m0:00:00\u001b[0m\n",
            "\u001b[?25hDownloading pynndescent-0.5.13-py3-none-any.whl (56 kB)\n",
            "\u001b[2K   \u001b[90m━━━━━━━━━━━━━━━━━━━━━━━━━━━━━━━━━━━━━━━━\u001b[0m \u001b[32m56.9/56.9 kB\u001b[0m \u001b[31m5.3 MB/s\u001b[0m eta \u001b[36m0:00:00\u001b[0m\n",
            "\u001b[?25hInstalling collected packages: pynndescent, umap-learn\n",
            "Successfully installed pynndescent-0.5.13 umap-learn-0.5.7\n"
          ]
        }
      ]
    },
    {
      "cell_type": "code",
      "source": [
        "!pip install numba"
      ],
      "metadata": {
        "colab": {
          "base_uri": "https://localhost:8080/"
        },
        "id": "iyB69eX_jie1",
        "outputId": "c26eae6b-52dd-4ce1-89e2-efbb4aae431d"
      },
      "id": "iyB69eX_jie1",
      "execution_count": 17,
      "outputs": [
        {
          "output_type": "stream",
          "name": "stdout",
          "text": [
            "Requirement already satisfied: numba in /usr/local/lib/python3.11/dist-packages (0.60.0)\n",
            "Requirement already satisfied: llvmlite<0.44,>=0.43.0dev0 in /usr/local/lib/python3.11/dist-packages (from numba) (0.43.0)\n",
            "Requirement already satisfied: numpy<2.1,>=1.22 in /usr/local/lib/python3.11/dist-packages (from numba) (1.26.4)\n"
          ]
        }
      ]
    },
    {
      "cell_type": "code",
      "source": [
        "import umap\n",
        "import numba\n",
        "\n",
        "umap_model = umap.UMAP(n_components=50, n_neighbors=15, min_dist=0.1, metric = \"cosine\")\n",
        "train_embeddings_umap = umap_model.fit_transform(train_embeddings)\n",
        "val_embeddings_umap = umap_model.transform(val_embeddings)"
      ],
      "metadata": {
        "colab": {
          "base_uri": "https://localhost:8080/"
        },
        "id": "FUT7rmB2gt0T",
        "outputId": "edf7bef5-6176-46a9-9663-108474721bcb"
      },
      "id": "FUT7rmB2gt0T",
      "execution_count": 20,
      "outputs": [
        {
          "output_type": "stream",
          "name": "stderr",
          "text": [
            "/usr/local/lib/python3.11/dist-packages/sklearn/utils/deprecation.py:151: FutureWarning: 'force_all_finite' was renamed to 'ensure_all_finite' in 1.6 and will be removed in 1.8.\n",
            "  warnings.warn(\n",
            "/usr/local/lib/python3.11/dist-packages/sklearn/utils/deprecation.py:151: FutureWarning: 'force_all_finite' was renamed to 'ensure_all_finite' in 1.6 and will be removed in 1.8.\n",
            "  warnings.warn(\n"
          ]
        }
      ]
    },
    {
      "cell_type": "code",
      "source": [
        "umap_model = umap.UMAP(n_components=50, n_neighbors=30, min_dist=0.1, metric = \"cosine\")\n",
        "train_embeddings_umap = umap_model.fit_transform(train_embeddings)\n",
        "val_embeddings_umap = umap_model.transform(val_embeddings)"
      ],
      "metadata": {
        "colab": {
          "base_uri": "https://localhost:8080/"
        },
        "id": "WM7sipDgjzP7",
        "outputId": "c42d557c-5cfd-4405-a991-ae2c17dd3542"
      },
      "id": "WM7sipDgjzP7",
      "execution_count": 23,
      "outputs": [
        {
          "output_type": "stream",
          "name": "stderr",
          "text": [
            "/usr/local/lib/python3.11/dist-packages/sklearn/utils/deprecation.py:151: FutureWarning: 'force_all_finite' was renamed to 'ensure_all_finite' in 1.6 and will be removed in 1.8.\n",
            "  warnings.warn(\n",
            "/usr/local/lib/python3.11/dist-packages/sklearn/utils/deprecation.py:151: FutureWarning: 'force_all_finite' was renamed to 'ensure_all_finite' in 1.6 and will be removed in 1.8.\n",
            "  warnings.warn(\n"
          ]
        }
      ]
    },
    {
      "cell_type": "code",
      "source": [
        "train_embeddings.shape, train_embeddings_umap.shape"
      ],
      "metadata": {
        "colab": {
          "base_uri": "https://localhost:8080/"
        },
        "id": "319zDTssR6Ev",
        "outputId": "fe664e63-3cc4-43d9-d767-f582065831f9"
      },
      "id": "319zDTssR6Ev",
      "execution_count": 21,
      "outputs": [
        {
          "output_type": "execute_result",
          "data": {
            "text/plain": [
              "((21984, 768), (21984, 50))"
            ]
          },
          "metadata": {},
          "execution_count": 21
        }
      ]
    },
    {
      "cell_type": "markdown",
      "source": [
        "### SVM"
      ],
      "metadata": {
        "id": "Syg-B3uq5TwI"
      },
      "id": "Syg-B3uq5TwI"
    },
    {
      "cell_type": "code",
      "source": [
        "from sklearn.linear_model import SGDClassifier\n",
        "\n",
        "svm_sgd = SGDClassifier(loss='hinge', alpha=0.01, max_iter=2000, tol=1e-3)\n",
        "svm_sgd.fit(train_embeddings_umap, y_train)\n",
        "\n",
        "print(f\"Accuracy: {svm_sgd.score(val_embeddings_umap, y_val):.4f}\")\n"
      ],
      "metadata": {
        "colab": {
          "base_uri": "https://localhost:8080/"
        },
        "id": "2TF_ala8WhmP",
        "outputId": "0c9b9d0a-026e-438d-b8bf-c8bb1446153b"
      },
      "id": "2TF_ala8WhmP",
      "execution_count": 24,
      "outputs": [
        {
          "output_type": "stream",
          "name": "stdout",
          "text": [
            "Accuracy: 0.7482\n"
          ]
        }
      ]
    },
    {
      "cell_type": "code",
      "source": [
        "from sklearn.svm import LinearSVC\n",
        "\n",
        "svm = LinearSVC(C=1.0, max_iter=5000)\n",
        "svm.fit(train_embeddings_umap, y_train)\n",
        "\n",
        "print(f\"Validation Accuracy: {svm.score(val_embeddings_umap, y_val):.4f}\")\n"
      ],
      "metadata": {
        "colab": {
          "base_uri": "https://localhost:8080/"
        },
        "id": "C6CwxoK8XJQ-",
        "outputId": "6c550912-4026-4d46-8ff2-65a5dddae4e4"
      },
      "id": "C6CwxoK8XJQ-",
      "execution_count": 25,
      "outputs": [
        {
          "output_type": "stream",
          "name": "stdout",
          "text": [
            "Validation Accuracy: 0.7516\n"
          ]
        }
      ]
    },
    {
      "cell_type": "code",
      "source": [
        "from sklearn.linear_model import LogisticRegression\n",
        "\n",
        "# Criar e treinar o modelo de Regressão Logística\n",
        "logreg = LogisticRegression(\n",
        "    max_iter=500,       # Número máximo de iterações para convergência\n",
        "    C=1.0,              # Regularização (1.0 = padrão, pode ajustar)\n",
        "    solver=\"lbfgs\",     # Otimizador (funciona bem para embeddings grandes)\n",
        "    multi_class=\"multinomial\",  # Para classificação multiclasse\n",
        "    n_jobs=-1           # Usa múltiplos núcleos da CPU\n",
        ")\n",
        "\n",
        "logreg.fit(train_embeddings_umap, y_train)\n",
        "\n",
        "# Avaliação\n",
        "accuracy = logreg.score(val_embeddings_umap, y_val)\n",
        "print(f\"Validation Accuracy: {accuracy:.4f}\")\n",
        "\n",
        "# Fazer previsões\n",
        "logreg_predictions = logreg.predict(val_embeddings_umap)\n"
      ],
      "metadata": {
        "colab": {
          "base_uri": "https://localhost:8080/"
        },
        "id": "5J05NaflZOsv",
        "outputId": "e71fa58a-3d9d-4170-a7a6-ae05f2dbe173"
      },
      "id": "5J05NaflZOsv",
      "execution_count": 26,
      "outputs": [
        {
          "output_type": "stream",
          "name": "stderr",
          "text": [
            "/usr/local/lib/python3.11/dist-packages/sklearn/linear_model/_logistic.py:1247: FutureWarning: 'multi_class' was deprecated in version 1.5 and will be removed in 1.7. From then on, it will always use 'multinomial'. Leave it to its default value to avoid this warning.\n",
            "  warnings.warn(\n"
          ]
        },
        {
          "output_type": "stream",
          "name": "stdout",
          "text": [
            "Validation Accuracy: 0.7547\n"
          ]
        }
      ]
    },
    {
      "cell_type": "code",
      "source": [
        "# svm_params = {\n",
        "#     'C': [0.1, 1, 10],\n",
        "#     'kernel': ['linear']\n",
        "# }\n",
        "\n",
        "# svm_grid = GridSearchCV(SVC(), svm_params, cv=3, n_jobs=-1, verbose=10)\n",
        "# svm_grid.fit(train_embeddings_pca, y_train)\n",
        "\n",
        "# print(f\"Best parameters: {svm_grid.best_params_}\")\n",
        "# print(f\"Best score: {svm_grid.best_score_}\")\n",
        "\n",
        "# svm_best_model = svm_grid.best_estimator_\n",
        "# svm_best_model.fit(train_embeddings_pca, y_train)\n",
        "# svm_predictions = svm_best_model.predict(val_embeddings_pca)\n",
        "\n",
        "# generalization_error_estimate = 1 - svm_best_model.score(val_embeddings_pca, y_val)\n",
        "# print(f\"Generalization Error Estimate: {generalization_error_estimate}\")"
      ],
      "metadata": {
        "id": "pKKsjdOaPUXU"
      },
      "id": "pKKsjdOaPUXU",
      "execution_count": 42,
      "outputs": []
    },
    {
      "cell_type": "markdown",
      "source": [
        "### Random Forest"
      ],
      "metadata": {
        "id": "cWvzXwDG5VLR"
      },
      "id": "cWvzXwDG5VLR"
    },
    {
      "cell_type": "code",
      "source": [
        "from sklearn.ensemble import RandomForestClassifier\n",
        "\n",
        "# Criando e treinando o modelo Random Forest\n",
        "rf = RandomForestClassifier(\n",
        "    n_estimators=200,   # Número de árvores\n",
        "    max_depth=10,       # Profundidade máxima das árvores (ajustável)\n",
        "    n_jobs=-1,          # Usa todos os núcleos do processador\n",
        "    random_state=42\n",
        ")\n",
        "\n",
        "rf.fit(train_embeddings_umap, y_train)\n",
        "\n",
        "# Avaliação\n",
        "accuracy = rf.score(val_embeddings_umap, y_val)\n",
        "print(f\"Validation Accuracy: {accuracy:.4f}\")\n",
        "\n",
        "# Fazer previsões\n",
        "rf_predictions = rf.predict(val_embeddings_umap)\n"
      ],
      "metadata": {
        "colab": {
          "base_uri": "https://localhost:8080/"
        },
        "id": "KGlI7uj8QhoS",
        "outputId": "8fad2f8b-e2c2-4836-ec08-3b4569d26361"
      },
      "id": "KGlI7uj8QhoS",
      "execution_count": 27,
      "outputs": [
        {
          "output_type": "stream",
          "name": "stdout",
          "text": [
            "Validation Accuracy: 0.7576\n"
          ]
        }
      ]
    },
    {
      "cell_type": "markdown",
      "source": [
        "### XGBoost"
      ],
      "metadata": {
        "id": "-O-Ff9T55W1g"
      },
      "id": "-O-Ff9T55W1g"
    },
    {
      "cell_type": "code",
      "source": [
        "class_counts = np.bincount(y_train)\n",
        "\n",
        "class_weights = {i: sum(class_counts) / class_counts[i] for i in range(len(class_counts))}\n",
        "\n",
        "# Criar o vetor de pesos para cada amostra do y_train\n",
        "sample_weights = np.array([class_weights[y] for y in y_train])"
      ],
      "metadata": {
        "id": "bE72-n-KahdB"
      },
      "id": "bE72-n-KahdB",
      "execution_count": 28,
      "outputs": []
    },
    {
      "cell_type": "code",
      "source": [
        "class_weights"
      ],
      "metadata": {
        "colab": {
          "base_uri": "https://localhost:8080/"
        },
        "id": "VcQW_k8Gapkm",
        "outputId": "6aa5d91b-87b6-4f97-f6a9-ddb453ac5708"
      },
      "id": "VcQW_k8Gapkm",
      "execution_count": 29,
      "outputs": [
        {
          "output_type": "execute_result",
          "data": {
            "text/plain": [
              "{0: 3.540666774037687, 1: 2.475396914761851, 2: 3.188859878154917}"
            ]
          },
          "metadata": {},
          "execution_count": 29
        }
      ]
    },
    {
      "cell_type": "code",
      "source": [
        "from xgboost import XGBClassifier\n",
        "\n",
        "# Criar e treinar o modelo XGBoost\n",
        "xgb = XGBClassifier(\n",
        "    n_estimators=100,  # Número de árvores na floresta\n",
        "    max_depth=5,       # Profundidade máxima das árvores\n",
        "    learning_rate=0.01, # Taxa de aprendizado\n",
        "    use_label_encoder=False,  # Evita warnings desnecessários\n",
        "    eval_metric=\"mlogloss\",  # Métrica para classificação multiclasse\n",
        "    sample_weight = sample_weights # Balanceamento das classes\n",
        ")\n",
        "\n",
        "xgb.fit(train_embeddings_umap, y_train)\n",
        "\n",
        "# Avaliação no conjunto de validação\n",
        "accuracy = xgb.score(val_embeddings_umap, y_val)\n",
        "print(f\"Validation Accuracy: {accuracy:.4f}\")"
      ],
      "metadata": {
        "colab": {
          "base_uri": "https://localhost:8080/"
        },
        "id": "TRiBib6UXSzu",
        "outputId": "641f4a86-e034-4941-feaa-94112c644daf"
      },
      "id": "TRiBib6UXSzu",
      "execution_count": 30,
      "outputs": [
        {
          "output_type": "stream",
          "name": "stderr",
          "text": [
            "/usr/local/lib/python3.11/dist-packages/xgboost/core.py:158: UserWarning: [17:33:41] WARNING: /workspace/src/learner.cc:740: \n",
            "Parameters: { \"sample_weight\", \"use_label_encoder\" } are not used.\n",
            "\n",
            "  warnings.warn(smsg, UserWarning)\n"
          ]
        },
        {
          "output_type": "stream",
          "name": "stdout",
          "text": [
            "Validation Accuracy: 0.7578\n"
          ]
        }
      ]
    },
    {
      "cell_type": "markdown",
      "source": [
        "# Neural Network"
      ],
      "metadata": {
        "id": "4ZL42k8R45tJ"
      },
      "id": "4ZL42k8R45tJ"
    },
    {
      "cell_type": "code",
      "source": [
        "NUM_CLASSES = 3\n",
        "LEARNING_RATE = 2e-5\n",
        "EPOCHS = 20\n",
        "\n",
        "class SentimentClassifier(nn.Module):\n",
        "    def __init__(self, input_dim=768, hidden1=1024, hidden2=2048, output_dim=3, dropout=0.1):\n",
        "        super(SentimentClassifier, self).__init__()\n",
        "\n",
        "        # Camadas principais\n",
        "        self.fc1 = nn.Linear(input_dim, hidden1)\n",
        "        self.fc2 = nn.Linear(hidden1, hidden2)\n",
        "        self.fc3 = nn.Linear(hidden2, hidden1)\n",
        "        self.fc4 = nn.Linear(hidden1, input_dim)  # Aqui voltamos para 768\n",
        "        self.fc_out = nn.Linear(input_dim, output_dim)  # Saída final (3 classes)\n",
        "\n",
        "        # Dropout\n",
        "        self.dropout = nn.Dropout(dropout)\n",
        "\n",
        "        # Ativação\n",
        "        self.relu = nn.ReLU()\n",
        "\n",
        "    def forward(self, x):\n",
        "        skip = x  # Guardando a entrada para o skip connection\n",
        "\n",
        "        x = self.fc1(x)\n",
        "        x = self.relu(x)\n",
        "        x = self.dropout(x)\n",
        "\n",
        "        x = self.fc2(x)\n",
        "        x = self.relu(x)\n",
        "        x = self.dropout(x)\n",
        "\n",
        "        x = self.fc3(x)\n",
        "        x = self.relu(x)\n",
        "        x = self.dropout(x)\n",
        "\n",
        "        x = self.fc4(x)\n",
        "        x = self.relu(x)\n",
        "\n",
        "        x = x + skip  # Skip connection somando com a entrada original\n",
        "\n",
        "        x = self.fc_out(x)\n",
        "        return x  # Softmax será aplicado na loss function\n"
      ],
      "metadata": {
        "id": "3KxY1yVXmCJb"
      },
      "id": "3KxY1yVXmCJb",
      "execution_count": 39,
      "outputs": []
    },
    {
      "cell_type": "code",
      "source": [
        "for batch in embedding_train_loader:\n",
        "    print(batch)\n",
        "    break"
      ],
      "metadata": {
        "id": "bP7aEMC3nWsG",
        "outputId": "389a3f94-0dd9-45f6-f849-ec016add1349",
        "colab": {
          "base_uri": "https://localhost:8080/"
        }
      },
      "id": "bP7aEMC3nWsG",
      "execution_count": 41,
      "outputs": [
        {
          "output_type": "stream",
          "name": "stdout",
          "text": [
            "{'input_ids': tensor([[-0.0796, -0.4191,  0.2626,  ...,  0.0113,  0.3719, -0.4539],\n",
            "        [-0.2668, -0.4030,  0.2789,  ...,  0.3663,  0.5041, -0.5285],\n",
            "        [ 0.2743, -0.2330, -0.1085,  ...,  0.6023, -0.2271, -0.6560],\n",
            "        ...,\n",
            "        [-0.0419, -0.2282,  0.0406,  ..., -0.3038,  0.2149, -0.3174],\n",
            "        [-0.1149, -0.3243,  0.2919,  ..., -0.4501,  0.2629, -0.3562],\n",
            "        [ 0.0721, -0.3352, -0.0940,  ...,  0.4842, -0.1077, -0.7243]]), 'label': tensor([1, 2, 2, 1, 2, 1, 2, 1, 2, 1, 2, 0, 1, 2, 1, 1, 1, 0, 2, 0, 1, 2, 2, 0,\n",
            "        1, 1, 2, 1, 0, 2, 2, 1, 2, 1, 0, 2, 0, 1, 0, 0, 1, 2, 0, 0, 1, 1, 1, 1,\n",
            "        2, 1, 0, 2, 1, 2, 1, 2, 1, 1, 2, 2, 0, 0, 1, 2])}\n"
          ]
        }
      ]
    },
    {
      "cell_type": "code",
      "source": [
        "model = SentimentClassifier().to(device)\n",
        "\n",
        "# Loss e otimizador\n",
        "criterion = nn.CrossEntropyLoss()\n",
        "optimizer = optim.Adam(model.parameters(), lr=2e-4, weight_decay=1e-5)  # L2 Regularization leve\n",
        "\n",
        "# Loop de Treinamento\n",
        "for epoch in range(EPOCHS):\n",
        "    model.train()\n",
        "    total_loss = 0\n",
        "\n",
        "    for batch in embedding_train_loader:\n",
        "        batch_x = batch[\"input_ids\"].to(device)\n",
        "        batch_y = batch[\"label\"].to(device)\n",
        "\n",
        "        optimizer.zero_grad()\n",
        "        outputs = model(batch_x)\n",
        "        loss = criterion(outputs, batch_y)\n",
        "        loss.backward()\n",
        "        optimizer.step()\n",
        "        total_loss += loss.item()\n",
        "\n",
        "    print(f\"Epoch {epoch+1}/{EPOCHS}, Loss: {total_loss/len(train_loader):.4f}\")"
      ],
      "metadata": {
        "id": "Sx4a15NAmgY_",
        "outputId": "05126245-7984-4fcd-c0fb-2cbec2c19f9a",
        "colab": {
          "base_uri": "https://localhost:8080/"
        }
      },
      "id": "Sx4a15NAmgY_",
      "execution_count": 45,
      "outputs": [
        {
          "output_type": "stream",
          "name": "stdout",
          "text": [
            "Epoch 1/20, Loss: 0.5995\n",
            "Epoch 2/20, Loss: 0.5574\n",
            "Epoch 3/20, Loss: 0.5460\n",
            "Epoch 4/20, Loss: 0.5405\n",
            "Epoch 5/20, Loss: 0.5348\n",
            "Epoch 6/20, Loss: 0.5298\n",
            "Epoch 7/20, Loss: 0.5291\n",
            "Epoch 8/20, Loss: 0.5215\n",
            "Epoch 9/20, Loss: 0.5213\n",
            "Epoch 10/20, Loss: 0.5164\n",
            "Epoch 11/20, Loss: 0.5145\n",
            "Epoch 12/20, Loss: 0.5118\n",
            "Epoch 13/20, Loss: 0.5085\n",
            "Epoch 14/20, Loss: 0.5035\n",
            "Epoch 15/20, Loss: 0.5003\n",
            "Epoch 16/20, Loss: 0.4972\n",
            "Epoch 17/20, Loss: 0.4912\n",
            "Epoch 18/20, Loss: 0.4898\n",
            "Epoch 19/20, Loss: 0.4841\n",
            "Epoch 20/20, Loss: 0.4781\n"
          ]
        }
      ]
    },
    {
      "cell_type": "markdown",
      "source": [
        "# LLM"
      ],
      "metadata": {
        "id": "rHPnW0Mo5FWZ"
      },
      "id": "rHPnW0Mo5FWZ"
    },
    {
      "cell_type": "markdown",
      "source": [
        "### Fine Tuning with LoRA"
      ],
      "metadata": {
        "id": "Omt_e4jq5KAB"
      },
      "id": "Omt_e4jq5KAB"
    },
    {
      "cell_type": "code",
      "source": [],
      "metadata": {
        "id": "Uez-YDsz4msn"
      },
      "id": "Uez-YDsz4msn",
      "execution_count": null,
      "outputs": []
    }
  ],
  "metadata": {
    "kernelspec": {
      "display_name": "",
      "name": ""
    },
    "language_info": {
      "name": ""
    },
    "colab": {
      "provenance": []
    }
  },
  "nbformat": 4,
  "nbformat_minor": 5
}